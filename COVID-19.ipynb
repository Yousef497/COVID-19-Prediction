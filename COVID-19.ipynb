{
 "cells": [
  {
   "cell_type": "markdown",
   "id": "674090dd",
   "metadata": {},
   "source": [
    "## Import Libraries"
   ]
  },
  {
   "cell_type": "code",
   "execution_count": 1,
   "id": "f4ffee8b",
   "metadata": {},
   "outputs": [],
   "source": [
    "import numpy as np\n",
    "import pandas as pd\n",
    "import matplotlib.pyplot as plt\n",
    "import seaborn as sns\n",
    "import matplotlib.pyplot as plt\n",
    "%matplotlib inline\n",
    "from sklearn.preprocessing import StandardScaler\n",
    "from sklearn.neighbors import KNeighborsClassifier\n",
    "from sklearn.metrics import confusion_matrix\n",
    "from sklearn.model_selection import train_test_split\n",
    "from sklearn.model_selection import KFold\n",
    "from sklearn.model_selection import cross_val_score\n",
    "from sklearn.model_selection import GridSearchCV\n",
    "from sklearn.metrics import classification_report\n",
    "from sklearn import metrics\n",
    "\n",
    "import warnings\n",
    "warnings.filterwarnings('ignore')"
   ]
  },
  {
   "cell_type": "code",
   "execution_count": 2,
   "id": "021bf2b2",
   "metadata": {},
   "outputs": [],
   "source": [
    "debug = 0     # Variable used in debugging\n",
    "graphing = 0  # Variable use to graph data for testing and debugging"
   ]
  },
  {
   "cell_type": "markdown",
   "id": "39620aa7",
   "metadata": {},
   "source": [
    "### Classification Report Plot Function"
   ]
  },
  {
   "cell_type": "code",
   "execution_count": 3,
   "id": "64a081c7",
   "metadata": {},
   "outputs": [],
   "source": [
    "def plot_report(y_test, preds,targets = None):\n",
    "    \"\"\" \n",
    "    Plot classification report \n",
    "\n",
    "    Parameters\n",
    "    ----------\n",
    "    y_test : pandas.Series\n",
    "        the true values that we will predict\n",
    "    preds : numpy.ndarray\n",
    "        the predicted values\n",
    "    target_names : list\n",
    "        A list that contains the target classes names\n",
    "\n",
    "    Return\n",
    "    ------ \n",
    "    Classification report plot \n",
    "    \"\"\"\n",
    "    clf_report = classification_report(y_test,\n",
    "                                       preds,\n",
    "                                       target_names=targets,\n",
    "                                       output_dict=True)\n",
    "    sns.heatmap(pd.DataFrame(clf_report).iloc[:-1, :].T, annot=True)"
   ]
  },
  {
   "cell_type": "markdown",
   "id": "a8162dc1",
   "metadata": {},
   "source": [
    "# Loading Data"
   ]
  },
  {
   "cell_type": "code",
   "execution_count": 4,
   "id": "5d0d55b6",
   "metadata": {},
   "outputs": [
    {
     "data": {
      "text/html": [
       "<div>\n",
       "<style scoped>\n",
       "    .dataframe tbody tr th:only-of-type {\n",
       "        vertical-align: middle;\n",
       "    }\n",
       "\n",
       "    .dataframe tbody tr th {\n",
       "        vertical-align: top;\n",
       "    }\n",
       "\n",
       "    .dataframe thead th {\n",
       "        text-align: right;\n",
       "    }\n",
       "</style>\n",
       "<table border=\"1\" class=\"dataframe\">\n",
       "  <thead>\n",
       "    <tr style=\"text-align: right;\">\n",
       "      <th></th>\n",
       "      <th>location</th>\n",
       "      <th>country</th>\n",
       "      <th>gender</th>\n",
       "      <th>age</th>\n",
       "      <th>vis_wuhan</th>\n",
       "      <th>from_wuhan</th>\n",
       "      <th>symptom1</th>\n",
       "      <th>symptom2</th>\n",
       "      <th>symptom3</th>\n",
       "      <th>symptom4</th>\n",
       "      <th>symptom5</th>\n",
       "      <th>symptom6</th>\n",
       "      <th>diff_sym_hos</th>\n",
       "      <th>result</th>\n",
       "    </tr>\n",
       "  </thead>\n",
       "  <tbody>\n",
       "    <tr>\n",
       "      <th>0</th>\n",
       "      <td>104</td>\n",
       "      <td>8</td>\n",
       "      <td>1</td>\n",
       "      <td>66.0</td>\n",
       "      <td>1</td>\n",
       "      <td>0</td>\n",
       "      <td>14</td>\n",
       "      <td>31</td>\n",
       "      <td>19</td>\n",
       "      <td>12</td>\n",
       "      <td>3</td>\n",
       "      <td>1</td>\n",
       "      <td>8</td>\n",
       "      <td>1</td>\n",
       "    </tr>\n",
       "    <tr>\n",
       "      <th>1</th>\n",
       "      <td>101</td>\n",
       "      <td>8</td>\n",
       "      <td>0</td>\n",
       "      <td>56.0</td>\n",
       "      <td>0</td>\n",
       "      <td>1</td>\n",
       "      <td>14</td>\n",
       "      <td>31</td>\n",
       "      <td>19</td>\n",
       "      <td>12</td>\n",
       "      <td>3</td>\n",
       "      <td>1</td>\n",
       "      <td>0</td>\n",
       "      <td>0</td>\n",
       "    </tr>\n",
       "    <tr>\n",
       "      <th>2</th>\n",
       "      <td>137</td>\n",
       "      <td>8</td>\n",
       "      <td>1</td>\n",
       "      <td>46.0</td>\n",
       "      <td>0</td>\n",
       "      <td>1</td>\n",
       "      <td>14</td>\n",
       "      <td>31</td>\n",
       "      <td>19</td>\n",
       "      <td>12</td>\n",
       "      <td>3</td>\n",
       "      <td>1</td>\n",
       "      <td>13</td>\n",
       "      <td>0</td>\n",
       "    </tr>\n",
       "    <tr>\n",
       "      <th>3</th>\n",
       "      <td>116</td>\n",
       "      <td>8</td>\n",
       "      <td>0</td>\n",
       "      <td>60.0</td>\n",
       "      <td>1</td>\n",
       "      <td>0</td>\n",
       "      <td>14</td>\n",
       "      <td>31</td>\n",
       "      <td>19</td>\n",
       "      <td>12</td>\n",
       "      <td>3</td>\n",
       "      <td>1</td>\n",
       "      <td>0</td>\n",
       "      <td>0</td>\n",
       "    </tr>\n",
       "    <tr>\n",
       "      <th>4</th>\n",
       "      <td>116</td>\n",
       "      <td>8</td>\n",
       "      <td>1</td>\n",
       "      <td>58.0</td>\n",
       "      <td>0</td>\n",
       "      <td>0</td>\n",
       "      <td>14</td>\n",
       "      <td>31</td>\n",
       "      <td>19</td>\n",
       "      <td>12</td>\n",
       "      <td>3</td>\n",
       "      <td>1</td>\n",
       "      <td>0</td>\n",
       "      <td>0</td>\n",
       "    </tr>\n",
       "  </tbody>\n",
       "</table>\n",
       "</div>"
      ],
      "text/plain": [
       "   location  country  gender   age  vis_wuhan  from_wuhan  symptom1  symptom2  \\\n",
       "0       104        8       1  66.0          1           0        14        31   \n",
       "1       101        8       0  56.0          0           1        14        31   \n",
       "2       137        8       1  46.0          0           1        14        31   \n",
       "3       116        8       0  60.0          1           0        14        31   \n",
       "4       116        8       1  58.0          0           0        14        31   \n",
       "\n",
       "   symptom3  symptom4  symptom5  symptom6  diff_sym_hos  result  \n",
       "0        19        12         3         1             8       1  \n",
       "1        19        12         3         1             0       0  \n",
       "2        19        12         3         1            13       0  \n",
       "3        19        12         3         1             0       0  \n",
       "4        19        12         3         1             0       0  "
      ]
     },
     "execution_count": 4,
     "metadata": {},
     "output_type": "execute_result"
    }
   ],
   "source": [
    "data = pd.read_csv('data.csv', index_col=False)\n",
    "data.drop('Unnamed: 0', inplace=True, axis=1)\n",
    "data.head()"
   ]
  },
  {
   "cell_type": "code",
   "execution_count": 5,
   "id": "edc7d4fa",
   "metadata": {},
   "outputs": [
    {
     "data": {
      "text/plain": [
       "(863, 14)"
      ]
     },
     "execution_count": 5,
     "metadata": {},
     "output_type": "execute_result"
    }
   ],
   "source": [
    "data.shape"
   ]
  },
  {
   "cell_type": "code",
   "execution_count": 6,
   "id": "7e504021",
   "metadata": {},
   "outputs": [],
   "source": [
    "if(debug==1):\n",
    "    data.info()"
   ]
  },
  {
   "cell_type": "code",
   "execution_count": 7,
   "id": "c37dc945",
   "metadata": {
    "scrolled": true
   },
   "outputs": [
    {
     "data": {
      "text/html": [
       "<div>\n",
       "<style scoped>\n",
       "    .dataframe tbody tr th:only-of-type {\n",
       "        vertical-align: middle;\n",
       "    }\n",
       "\n",
       "    .dataframe tbody tr th {\n",
       "        vertical-align: top;\n",
       "    }\n",
       "\n",
       "    .dataframe thead th {\n",
       "        text-align: right;\n",
       "    }\n",
       "</style>\n",
       "<table border=\"1\" class=\"dataframe\">\n",
       "  <thead>\n",
       "    <tr style=\"text-align: right;\">\n",
       "      <th></th>\n",
       "      <th>location</th>\n",
       "      <th>country</th>\n",
       "      <th>gender</th>\n",
       "      <th>age</th>\n",
       "      <th>vis_wuhan</th>\n",
       "      <th>from_wuhan</th>\n",
       "      <th>symptom1</th>\n",
       "      <th>symptom2</th>\n",
       "      <th>symptom3</th>\n",
       "      <th>symptom4</th>\n",
       "      <th>symptom5</th>\n",
       "      <th>symptom6</th>\n",
       "      <th>diff_sym_hos</th>\n",
       "      <th>result</th>\n",
       "    </tr>\n",
       "  </thead>\n",
       "  <tbody>\n",
       "    <tr>\n",
       "      <th>count</th>\n",
       "      <td>863.000000</td>\n",
       "      <td>863.000000</td>\n",
       "      <td>863.000000</td>\n",
       "      <td>863.000000</td>\n",
       "      <td>863.000000</td>\n",
       "      <td>863.000000</td>\n",
       "      <td>863.00000</td>\n",
       "      <td>863.000000</td>\n",
       "      <td>863.000000</td>\n",
       "      <td>863.000000</td>\n",
       "      <td>863.000000</td>\n",
       "      <td>863.000000</td>\n",
       "      <td>863.000000</td>\n",
       "      <td>863.000000</td>\n",
       "    </tr>\n",
       "    <tr>\n",
       "      <th>mean</th>\n",
       "      <td>76.645423</td>\n",
       "      <td>16.995365</td>\n",
       "      <td>0.849363</td>\n",
       "      <td>49.400000</td>\n",
       "      <td>0.181924</td>\n",
       "      <td>0.107764</td>\n",
       "      <td>12.13905</td>\n",
       "      <td>28.002317</td>\n",
       "      <td>18.298957</td>\n",
       "      <td>11.840093</td>\n",
       "      <td>2.993048</td>\n",
       "      <td>0.998841</td>\n",
       "      <td>0.995365</td>\n",
       "      <td>0.125145</td>\n",
       "    </tr>\n",
       "    <tr>\n",
       "      <th>std</th>\n",
       "      <td>39.200264</td>\n",
       "      <td>7.809951</td>\n",
       "      <td>0.726062</td>\n",
       "      <td>15.079203</td>\n",
       "      <td>0.386005</td>\n",
       "      <td>0.310261</td>\n",
       "      <td>3.99787</td>\n",
       "      <td>7.473231</td>\n",
       "      <td>2.864064</td>\n",
       "      <td>1.183771</td>\n",
       "      <td>0.127251</td>\n",
       "      <td>0.034040</td>\n",
       "      <td>2.358767</td>\n",
       "      <td>0.331075</td>\n",
       "    </tr>\n",
       "    <tr>\n",
       "      <th>min</th>\n",
       "      <td>0.000000</td>\n",
       "      <td>0.000000</td>\n",
       "      <td>0.000000</td>\n",
       "      <td>2.000000</td>\n",
       "      <td>0.000000</td>\n",
       "      <td>0.000000</td>\n",
       "      <td>0.00000</td>\n",
       "      <td>0.000000</td>\n",
       "      <td>0.000000</td>\n",
       "      <td>0.000000</td>\n",
       "      <td>0.000000</td>\n",
       "      <td>0.000000</td>\n",
       "      <td>-5.000000</td>\n",
       "      <td>0.000000</td>\n",
       "    </tr>\n",
       "    <tr>\n",
       "      <th>25%</th>\n",
       "      <td>45.000000</td>\n",
       "      <td>11.000000</td>\n",
       "      <td>0.000000</td>\n",
       "      <td>40.000000</td>\n",
       "      <td>0.000000</td>\n",
       "      <td>0.000000</td>\n",
       "      <td>14.00000</td>\n",
       "      <td>31.000000</td>\n",
       "      <td>19.000000</td>\n",
       "      <td>12.000000</td>\n",
       "      <td>3.000000</td>\n",
       "      <td>1.000000</td>\n",
       "      <td>0.000000</td>\n",
       "      <td>0.000000</td>\n",
       "    </tr>\n",
       "    <tr>\n",
       "      <th>50%</th>\n",
       "      <td>87.000000</td>\n",
       "      <td>18.000000</td>\n",
       "      <td>1.000000</td>\n",
       "      <td>49.400000</td>\n",
       "      <td>0.000000</td>\n",
       "      <td>0.000000</td>\n",
       "      <td>14.00000</td>\n",
       "      <td>31.000000</td>\n",
       "      <td>19.000000</td>\n",
       "      <td>12.000000</td>\n",
       "      <td>3.000000</td>\n",
       "      <td>1.000000</td>\n",
       "      <td>0.000000</td>\n",
       "      <td>0.000000</td>\n",
       "    </tr>\n",
       "    <tr>\n",
       "      <th>75%</th>\n",
       "      <td>110.000000</td>\n",
       "      <td>24.000000</td>\n",
       "      <td>1.000000</td>\n",
       "      <td>57.000000</td>\n",
       "      <td>0.000000</td>\n",
       "      <td>0.000000</td>\n",
       "      <td>14.00000</td>\n",
       "      <td>31.000000</td>\n",
       "      <td>19.000000</td>\n",
       "      <td>12.000000</td>\n",
       "      <td>3.000000</td>\n",
       "      <td>1.000000</td>\n",
       "      <td>1.000000</td>\n",
       "      <td>0.000000</td>\n",
       "    </tr>\n",
       "    <tr>\n",
       "      <th>max</th>\n",
       "      <td>138.000000</td>\n",
       "      <td>33.000000</td>\n",
       "      <td>2.000000</td>\n",
       "      <td>96.000000</td>\n",
       "      <td>1.000000</td>\n",
       "      <td>1.000000</td>\n",
       "      <td>24.00000</td>\n",
       "      <td>31.000000</td>\n",
       "      <td>19.000000</td>\n",
       "      <td>12.000000</td>\n",
       "      <td>3.000000</td>\n",
       "      <td>1.000000</td>\n",
       "      <td>15.000000</td>\n",
       "      <td>1.000000</td>\n",
       "    </tr>\n",
       "  </tbody>\n",
       "</table>\n",
       "</div>"
      ],
      "text/plain": [
       "         location     country      gender         age   vis_wuhan  from_wuhan  \\\n",
       "count  863.000000  863.000000  863.000000  863.000000  863.000000  863.000000   \n",
       "mean    76.645423   16.995365    0.849363   49.400000    0.181924    0.107764   \n",
       "std     39.200264    7.809951    0.726062   15.079203    0.386005    0.310261   \n",
       "min      0.000000    0.000000    0.000000    2.000000    0.000000    0.000000   \n",
       "25%     45.000000   11.000000    0.000000   40.000000    0.000000    0.000000   \n",
       "50%     87.000000   18.000000    1.000000   49.400000    0.000000    0.000000   \n",
       "75%    110.000000   24.000000    1.000000   57.000000    0.000000    0.000000   \n",
       "max    138.000000   33.000000    2.000000   96.000000    1.000000    1.000000   \n",
       "\n",
       "        symptom1    symptom2    symptom3    symptom4    symptom5    symptom6  \\\n",
       "count  863.00000  863.000000  863.000000  863.000000  863.000000  863.000000   \n",
       "mean    12.13905   28.002317   18.298957   11.840093    2.993048    0.998841   \n",
       "std      3.99787    7.473231    2.864064    1.183771    0.127251    0.034040   \n",
       "min      0.00000    0.000000    0.000000    0.000000    0.000000    0.000000   \n",
       "25%     14.00000   31.000000   19.000000   12.000000    3.000000    1.000000   \n",
       "50%     14.00000   31.000000   19.000000   12.000000    3.000000    1.000000   \n",
       "75%     14.00000   31.000000   19.000000   12.000000    3.000000    1.000000   \n",
       "max     24.00000   31.000000   19.000000   12.000000    3.000000    1.000000   \n",
       "\n",
       "       diff_sym_hos      result  \n",
       "count    863.000000  863.000000  \n",
       "mean       0.995365    0.125145  \n",
       "std        2.358767    0.331075  \n",
       "min       -5.000000    0.000000  \n",
       "25%        0.000000    0.000000  \n",
       "50%        0.000000    0.000000  \n",
       "75%        1.000000    0.000000  \n",
       "max       15.000000    1.000000  "
      ]
     },
     "execution_count": 7,
     "metadata": {},
     "output_type": "execute_result"
    }
   ],
   "source": [
    "data.describe()"
   ]
  },
  {
   "cell_type": "code",
   "execution_count": 8,
   "id": "8eec433f",
   "metadata": {},
   "outputs": [
    {
     "data": {
      "text/plain": [
       "0    755\n",
       "1    108\n",
       "Name: result, dtype: int64"
      ]
     },
     "execution_count": 8,
     "metadata": {},
     "output_type": "execute_result"
    }
   ],
   "source": [
    "# Count positive and negative results\n",
    "# 1 Death\n",
    "# 0 Recovered\n",
    "\n",
    "data.result.value_counts()"
   ]
  },
  {
   "cell_type": "code",
   "execution_count": 9,
   "id": "ff3f22bf",
   "metadata": {},
   "outputs": [],
   "source": [
    "# Count plot Death and Recovery\n",
    "if(graphing == 1):\n",
    "    sns.countplot(x=\"result\", data=data, palette=\"bwr\")\n",
    "    plt.show()"
   ]
  },
  {
   "cell_type": "code",
   "execution_count": 10,
   "id": "07045143",
   "metadata": {},
   "outputs": [],
   "source": [
    "# Plotting Age with Death and Recovery and time before symptoms appear\n",
    "if(graphing == 1):\n",
    "    plt.figure(figsize=(14,7))\n",
    "    ax = sns.countplot(x=data.age[data.result==1], data=data)\n",
    "    ax.set_xticklabels(ax.get_xticklabels(), fontsize=10)\n",
    "    plt.tight_layout()\n",
    "    plt.show()"
   ]
  },
  {
   "cell_type": "markdown",
   "id": "db690829",
   "metadata": {},
   "source": [
    "# Visualizing all parts of the Data to get rid of unneccessary columns"
   ]
  },
  {
   "cell_type": "code",
   "execution_count": 11,
   "id": "f3c4d4df",
   "metadata": {
    "scrolled": false
   },
   "outputs": [],
   "source": [
    "if(graphing == 1):\n",
    "\n",
    "    # Location\n",
    "    plt.hist(data[\"location\"][data[\"result\"]==0],color=\"red\",alpha=0.5)\n",
    "    plt.hist(data[\"location\"][data[\"result\"]==1],color=\"black\",alpha=0.5)\n",
    "    plt.title(\"Location\",fontsize=12,color=\"black\")\n",
    "    plt.ylabel(\"FREQUENCY\",fontsize=10,color=\"black\")\n",
    "    plt.legend([\"Recovered\",\"Death\"])\n",
    "    plt.style.use(\"fivethirtyeight\")\n",
    "    plt.gcf().set_size_inches(12,6)\n",
    "    plt.show()\n",
    "\n",
    "    # Country\n",
    "    plt.hist(data[\"country\"][data[\"result\"]==0],color=\"red\",alpha=0.5)\n",
    "    plt.hist(data[\"country\"][data[\"result\"]==1],color=\"black\",alpha=0.5)\n",
    "    plt.title(\"Country\",fontsize=12,color=\"black\")\n",
    "    plt.ylabel(\"FREQUENCY\",fontsize=10,color=\"black\")\n",
    "    plt.legend([\"Recovered\",\"Death\"])\n",
    "    plt.style.use(\"fivethirtyeight\")\n",
    "    plt.gcf().set_size_inches(12,6)\n",
    "    plt.show()\n",
    "\n",
    "    # Age\n",
    "    plt.hist(data[\"age\"][data[\"result\"]==0],color=\"red\",alpha=0.5)\n",
    "    plt.hist(data[\"age\"][data[\"result\"]==1],color=\"black\",alpha=0.5)\n",
    "    plt.title(\"Age\",fontsize=12,color=\"black\")\n",
    "    plt.ylabel(\"FREQUENCY\",fontsize=10,color=\"black\")\n",
    "    plt.legend([\"Recovered\",\"Death\"])\n",
    "    plt.style.use(\"fivethirtyeight\")\n",
    "    plt.gcf().set_size_inches(12,6)\n",
    "    plt.show()\n",
    "\n",
    "    # Visited Wuhan\n",
    "    plt.hist(data[\"vis_wuhan\"][data[\"result\"]==0],color=\"red\",alpha=0.5)\n",
    "    plt.hist(data[\"vis_wuhan\"][data[\"result\"]==1],color=\"black\",alpha=0.5)\n",
    "    plt.title(\"Visited Wuhan\",fontsize=12,color=\"black\")\n",
    "    plt.ylabel(\"FREQUENCY\",fontsize=10,color=\"black\")\n",
    "    plt.legend([\"Recovered\",\"Death\"])\n",
    "    plt.style.use(\"fivethirtyeight\")\n",
    "    plt.gcf().set_size_inches(12,6)\n",
    "    plt.show()\n",
    "\n",
    "    # From Wuhan\n",
    "    plt.hist(data[\"from_wuhan\"][data[\"result\"]==0],color=\"red\",alpha=0.5)\n",
    "    plt.hist(data[\"from_wuhan\"][data[\"result\"]==1],color=\"black\",alpha=0.5)\n",
    "    plt.title(\"From Wuhan\",fontsize=12,color=\"black\")\n",
    "    plt.ylabel(\"FREQUENCY\",fontsize=10,color=\"black\")\n",
    "    plt.legend([\"Recovered\",\"Death\"])\n",
    "    plt.style.use(\"fivethirtyeight\")\n",
    "    plt.gcf().set_size_inches(12,6)\n",
    "    plt.show()\n",
    "\n",
    "    # Symptom 1\n",
    "    plt.hist(data[\"symptom1\"][data[\"result\"]==0],color=\"red\",alpha=0.5)\n",
    "    plt.hist(data[\"symptom1\"][data[\"result\"]==1],color=\"black\",alpha=0.5)\n",
    "    plt.title(\"Symptom 1\",fontsize=12,color=\"black\")\n",
    "    plt.ylabel(\"FREQUENCY\",fontsize=10,color=\"black\")\n",
    "    plt.legend([\"Recovered\",\"Death\"])\n",
    "    plt.style.use(\"fivethirtyeight\")\n",
    "    plt.gcf().set_size_inches(12,6)\n",
    "    plt.show()\n",
    "\n",
    "    # Symptom 2\n",
    "    plt.hist(data[\"symptom2\"][data[\"result\"]==0],color=\"red\",alpha=0.5)\n",
    "    plt.hist(data[\"symptom2\"][data[\"result\"]==1],color=\"black\",alpha=0.5)\n",
    "    plt.title(\"Symptom 2\",fontsize=12,color=\"black\")\n",
    "    plt.ylabel(\"FREQUENCY\",fontsize=10,color=\"black\")\n",
    "    plt.legend([\"Recovered\",\"Death\"])\n",
    "    plt.style.use(\"fivethirtyeight\")\n",
    "    plt.gcf().set_size_inches(12,6)\n",
    "    plt.show()\n",
    "\n",
    "    # Symptom 3\n",
    "    plt.hist(data[\"symptom3\"][data[\"result\"]==0],color=\"red\",alpha=0.5)\n",
    "    plt.hist(data[\"symptom3\"][data[\"result\"]==1],color=\"black\",alpha=0.5)\n",
    "    plt.title(\"Symptom 3\",fontsize=12,color=\"black\")\n",
    "    plt.ylabel(\"FREQUENCY\",fontsize=10,color=\"black\")\n",
    "    plt.legend([\"Recovered\",\"Death\"])\n",
    "    plt.style.use(\"fivethirtyeight\")\n",
    "    plt.gcf().set_size_inches(12,6)\n",
    "    plt.show()\n",
    "\n",
    "    # Symptom 4\n",
    "    plt.hist(data[\"symptom4\"][data[\"result\"]==0],color=\"red\",alpha=0.5)\n",
    "    plt.hist(data[\"symptom4\"][data[\"result\"]==1],color=\"black\",alpha=0.5)\n",
    "    plt.title(\"Symptom 4\",fontsize=12,color=\"black\")\n",
    "    plt.ylabel(\"FREQUENCY\",fontsize=10,color=\"black\")\n",
    "    plt.legend([\"Recovered\",\"Death\"])\n",
    "    plt.style.use(\"fivethirtyeight\")\n",
    "    plt.gcf().set_size_inches(12,6)\n",
    "    plt.show()\n",
    "\n",
    "    # Symptom 5\n",
    "    plt.hist(data[\"symptom5\"][data[\"result\"]==0],color=\"red\",alpha=0.5)\n",
    "    plt.hist(data[\"symptom5\"][data[\"result\"]==1],color=\"black\",alpha=0.5)\n",
    "    plt.title(\"Symptom 5\",fontsize=12,color=\"black\")\n",
    "    plt.ylabel(\"FREQUENCY\",fontsize=10,color=\"black\")\n",
    "    plt.legend([\"Recovered\",\"Death\"])\n",
    "    plt.style.use(\"fivethirtyeight\")\n",
    "    plt.gcf().set_size_inches(12,6)\n",
    "    plt.show()\n",
    "\n",
    "    # Symptom 6\n",
    "    plt.hist(data[\"symptom6\"][data[\"result\"]==0],color=\"red\",alpha=0.5)\n",
    "    plt.hist(data[\"symptom6\"][data[\"result\"]==1],color=\"black\",alpha=0.5)\n",
    "    plt.title(\"Symptom 6\",fontsize=12,color=\"black\")\n",
    "    plt.ylabel(\"FREQUENCY\",fontsize=10,color=\"black\")\n",
    "    plt.legend([\"Recovered\",\"Death\"])\n",
    "    plt.style.use(\"fivethirtyeight\")\n",
    "    plt.gcf().set_size_inches(12,6)\n",
    "    plt.show()\n",
    "\n",
    "    # Time before symptoms appear\n",
    "    plt.hist(data[\"diff_sym_hos\"][data[\"result\"]==0],color=\"red\",alpha=0.5)\n",
    "    plt.hist(data[\"diff_sym_hos\"][data[\"result\"]==1],color=\"black\",alpha=0.5)\n",
    "    plt.title(\"Time before Symptoms appear\",fontsize=12,color=\"black\")\n",
    "    plt.ylabel(\"FREQUENCY\",fontsize=10,color=\"black\")\n",
    "    plt.legend([\"Recovered\",\"Death\"])\n",
    "    plt.style.use(\"fivethirtyeight\")\n",
    "    plt.gcf().set_size_inches(12,6)\n",
    "    plt.show()\n"
   ]
  },
  {
   "cell_type": "code",
   "execution_count": 12,
   "id": "2d705fb8",
   "metadata": {},
   "outputs": [
    {
     "data": {
      "text/html": [
       "<div>\n",
       "<style scoped>\n",
       "    .dataframe tbody tr th:only-of-type {\n",
       "        vertical-align: middle;\n",
       "    }\n",
       "\n",
       "    .dataframe tbody tr th {\n",
       "        vertical-align: top;\n",
       "    }\n",
       "\n",
       "    .dataframe thead th {\n",
       "        text-align: right;\n",
       "    }\n",
       "</style>\n",
       "<table border=\"1\" class=\"dataframe\">\n",
       "  <thead>\n",
       "    <tr style=\"text-align: right;\">\n",
       "      <th></th>\n",
       "      <th>location</th>\n",
       "      <th>country</th>\n",
       "      <th>gender</th>\n",
       "      <th>age</th>\n",
       "      <th>vis_wuhan</th>\n",
       "      <th>from_wuhan</th>\n",
       "      <th>symptom1</th>\n",
       "      <th>symptom2</th>\n",
       "      <th>symptom3</th>\n",
       "      <th>symptom4</th>\n",
       "      <th>symptom5</th>\n",
       "      <th>symptom6</th>\n",
       "      <th>diff_sym_hos</th>\n",
       "      <th>result</th>\n",
       "    </tr>\n",
       "  </thead>\n",
       "  <tbody>\n",
       "    <tr>\n",
       "      <th>location</th>\n",
       "      <td>1.000000</td>\n",
       "      <td>0.309347</td>\n",
       "      <td>0.030077</td>\n",
       "      <td>-0.027330</td>\n",
       "      <td>0.022821</td>\n",
       "      <td>0.080120</td>\n",
       "      <td>0.033078</td>\n",
       "      <td>0.017961</td>\n",
       "      <td>0.010472</td>\n",
       "      <td>-0.026823</td>\n",
       "      <td>0.033692</td>\n",
       "      <td>0.015341</td>\n",
       "      <td>-0.119397</td>\n",
       "      <td>0.046240</td>\n",
       "    </tr>\n",
       "    <tr>\n",
       "      <th>country</th>\n",
       "      <td>0.309347</td>\n",
       "      <td>1.000000</td>\n",
       "      <td>0.193208</td>\n",
       "      <td>0.072339</td>\n",
       "      <td>-0.149798</td>\n",
       "      <td>-0.194170</td>\n",
       "      <td>-0.078971</td>\n",
       "      <td>-0.085210</td>\n",
       "      <td>-0.042933</td>\n",
       "      <td>-0.018526</td>\n",
       "      <td>-0.009371</td>\n",
       "      <td>-0.004384</td>\n",
       "      <td>-0.146037</td>\n",
       "      <td>-0.094443</td>\n",
       "    </tr>\n",
       "    <tr>\n",
       "      <th>gender</th>\n",
       "      <td>0.030077</td>\n",
       "      <td>0.193208</td>\n",
       "      <td>1.000000</td>\n",
       "      <td>-0.020662</td>\n",
       "      <td>-0.005588</td>\n",
       "      <td>-0.138997</td>\n",
       "      <td>0.146706</td>\n",
       "      <td>0.116159</td>\n",
       "      <td>0.090858</td>\n",
       "      <td>0.021882</td>\n",
       "      <td>0.026320</td>\n",
       "      <td>0.039867</td>\n",
       "      <td>-0.176528</td>\n",
       "      <td>-0.061441</td>\n",
       "    </tr>\n",
       "    <tr>\n",
       "      <th>age</th>\n",
       "      <td>-0.027330</td>\n",
       "      <td>0.072339</td>\n",
       "      <td>-0.020662</td>\n",
       "      <td>1.000000</td>\n",
       "      <td>-0.157173</td>\n",
       "      <td>-0.051229</td>\n",
       "      <td>-0.209028</td>\n",
       "      <td>-0.127251</td>\n",
       "      <td>-0.074863</td>\n",
       "      <td>-0.069396</td>\n",
       "      <td>0.049817</td>\n",
       "      <td>0.055145</td>\n",
       "      <td>0.074573</td>\n",
       "      <td>0.515127</td>\n",
       "    </tr>\n",
       "    <tr>\n",
       "      <th>vis_wuhan</th>\n",
       "      <td>0.022821</td>\n",
       "      <td>-0.149798</td>\n",
       "      <td>-0.005588</td>\n",
       "      <td>-0.157173</td>\n",
       "      <td>1.000000</td>\n",
       "      <td>-0.154200</td>\n",
       "      <td>0.087330</td>\n",
       "      <td>0.094360</td>\n",
       "      <td>0.086113</td>\n",
       "      <td>0.063738</td>\n",
       "      <td>0.025780</td>\n",
       "      <td>0.016062</td>\n",
       "      <td>0.065908</td>\n",
       "      <td>-0.151122</td>\n",
       "    </tr>\n",
       "    <tr>\n",
       "      <th>from_wuhan</th>\n",
       "      <td>0.080120</td>\n",
       "      <td>-0.194170</td>\n",
       "      <td>-0.138997</td>\n",
       "      <td>-0.051229</td>\n",
       "      <td>-0.154200</td>\n",
       "      <td>1.000000</td>\n",
       "      <td>0.036539</td>\n",
       "      <td>0.046923</td>\n",
       "      <td>0.068144</td>\n",
       "      <td>0.021704</td>\n",
       "      <td>0.018999</td>\n",
       "      <td>0.011837</td>\n",
       "      <td>0.019706</td>\n",
       "      <td>0.128314</td>\n",
       "    </tr>\n",
       "    <tr>\n",
       "      <th>symptom1</th>\n",
       "      <td>0.033078</td>\n",
       "      <td>-0.078971</td>\n",
       "      <td>0.146706</td>\n",
       "      <td>-0.209028</td>\n",
       "      <td>0.087330</td>\n",
       "      <td>0.036539</td>\n",
       "      <td>1.000000</td>\n",
       "      <td>0.519404</td>\n",
       "      <td>0.260397</td>\n",
       "      <td>0.095402</td>\n",
       "      <td>-0.002658</td>\n",
       "      <td>0.086430</td>\n",
       "      <td>-0.141160</td>\n",
       "      <td>-0.163039</td>\n",
       "    </tr>\n",
       "    <tr>\n",
       "      <th>symptom2</th>\n",
       "      <td>0.017961</td>\n",
       "      <td>-0.085210</td>\n",
       "      <td>0.116159</td>\n",
       "      <td>-0.127251</td>\n",
       "      <td>0.094360</td>\n",
       "      <td>0.046923</td>\n",
       "      <td>0.519404</td>\n",
       "      <td>1.000000</td>\n",
       "      <td>0.530968</td>\n",
       "      <td>0.329583</td>\n",
       "      <td>0.159823</td>\n",
       "      <td>0.072975</td>\n",
       "      <td>-0.119052</td>\n",
       "      <td>-0.103270</td>\n",
       "    </tr>\n",
       "    <tr>\n",
       "      <th>symptom3</th>\n",
       "      <td>0.010472</td>\n",
       "      <td>-0.042933</td>\n",
       "      <td>0.090858</td>\n",
       "      <td>-0.074863</td>\n",
       "      <td>0.086113</td>\n",
       "      <td>0.068144</td>\n",
       "      <td>0.260397</td>\n",
       "      <td>0.530968</td>\n",
       "      <td>1.000000</td>\n",
       "      <td>0.429853</td>\n",
       "      <td>0.120301</td>\n",
       "      <td>0.146347</td>\n",
       "      <td>-0.124293</td>\n",
       "      <td>-0.074982</td>\n",
       "    </tr>\n",
       "    <tr>\n",
       "      <th>symptom4</th>\n",
       "      <td>-0.026823</td>\n",
       "      <td>-0.018526</td>\n",
       "      <td>0.021882</td>\n",
       "      <td>-0.069396</td>\n",
       "      <td>0.063738</td>\n",
       "      <td>0.021704</td>\n",
       "      <td>0.095402</td>\n",
       "      <td>0.329583</td>\n",
       "      <td>0.429853</td>\n",
       "      <td>1.000000</td>\n",
       "      <td>0.277558</td>\n",
       "      <td>0.110553</td>\n",
       "      <td>-0.089592</td>\n",
       "      <td>-0.108723</td>\n",
       "    </tr>\n",
       "    <tr>\n",
       "      <th>symptom5</th>\n",
       "      <td>0.033692</td>\n",
       "      <td>-0.009371</td>\n",
       "      <td>0.026320</td>\n",
       "      <td>0.049817</td>\n",
       "      <td>0.025780</td>\n",
       "      <td>0.018999</td>\n",
       "      <td>-0.002658</td>\n",
       "      <td>0.159823</td>\n",
       "      <td>0.120301</td>\n",
       "      <td>0.277558</td>\n",
       "      <td>1.000000</td>\n",
       "      <td>0.265954</td>\n",
       "      <td>0.003757</td>\n",
       "      <td>0.020676</td>\n",
       "    </tr>\n",
       "    <tr>\n",
       "      <th>symptom6</th>\n",
       "      <td>0.015341</td>\n",
       "      <td>-0.004384</td>\n",
       "      <td>0.039867</td>\n",
       "      <td>0.055145</td>\n",
       "      <td>0.016062</td>\n",
       "      <td>0.011837</td>\n",
       "      <td>0.086430</td>\n",
       "      <td>0.072975</td>\n",
       "      <td>0.146347</td>\n",
       "      <td>0.110553</td>\n",
       "      <td>0.265954</td>\n",
       "      <td>1.000000</td>\n",
       "      <td>-0.000067</td>\n",
       "      <td>0.012882</td>\n",
       "    </tr>\n",
       "    <tr>\n",
       "      <th>diff_sym_hos</th>\n",
       "      <td>-0.119397</td>\n",
       "      <td>-0.146037</td>\n",
       "      <td>-0.176528</td>\n",
       "      <td>0.074573</td>\n",
       "      <td>0.065908</td>\n",
       "      <td>0.019706</td>\n",
       "      <td>-0.141160</td>\n",
       "      <td>-0.119052</td>\n",
       "      <td>-0.124293</td>\n",
       "      <td>-0.089592</td>\n",
       "      <td>0.003757</td>\n",
       "      <td>-0.000067</td>\n",
       "      <td>1.000000</td>\n",
       "      <td>0.219116</td>\n",
       "    </tr>\n",
       "    <tr>\n",
       "      <th>result</th>\n",
       "      <td>0.046240</td>\n",
       "      <td>-0.094443</td>\n",
       "      <td>-0.061441</td>\n",
       "      <td>0.515127</td>\n",
       "      <td>-0.151122</td>\n",
       "      <td>0.128314</td>\n",
       "      <td>-0.163039</td>\n",
       "      <td>-0.103270</td>\n",
       "      <td>-0.074982</td>\n",
       "      <td>-0.108723</td>\n",
       "      <td>0.020676</td>\n",
       "      <td>0.012882</td>\n",
       "      <td>0.219116</td>\n",
       "      <td>1.000000</td>\n",
       "    </tr>\n",
       "  </tbody>\n",
       "</table>\n",
       "</div>"
      ],
      "text/plain": [
       "              location   country    gender       age  vis_wuhan  from_wuhan  \\\n",
       "location      1.000000  0.309347  0.030077 -0.027330   0.022821    0.080120   \n",
       "country       0.309347  1.000000  0.193208  0.072339  -0.149798   -0.194170   \n",
       "gender        0.030077  0.193208  1.000000 -0.020662  -0.005588   -0.138997   \n",
       "age          -0.027330  0.072339 -0.020662  1.000000  -0.157173   -0.051229   \n",
       "vis_wuhan     0.022821 -0.149798 -0.005588 -0.157173   1.000000   -0.154200   \n",
       "from_wuhan    0.080120 -0.194170 -0.138997 -0.051229  -0.154200    1.000000   \n",
       "symptom1      0.033078 -0.078971  0.146706 -0.209028   0.087330    0.036539   \n",
       "symptom2      0.017961 -0.085210  0.116159 -0.127251   0.094360    0.046923   \n",
       "symptom3      0.010472 -0.042933  0.090858 -0.074863   0.086113    0.068144   \n",
       "symptom4     -0.026823 -0.018526  0.021882 -0.069396   0.063738    0.021704   \n",
       "symptom5      0.033692 -0.009371  0.026320  0.049817   0.025780    0.018999   \n",
       "symptom6      0.015341 -0.004384  0.039867  0.055145   0.016062    0.011837   \n",
       "diff_sym_hos -0.119397 -0.146037 -0.176528  0.074573   0.065908    0.019706   \n",
       "result        0.046240 -0.094443 -0.061441  0.515127  -0.151122    0.128314   \n",
       "\n",
       "              symptom1  symptom2  symptom3  symptom4  symptom5  symptom6  \\\n",
       "location      0.033078  0.017961  0.010472 -0.026823  0.033692  0.015341   \n",
       "country      -0.078971 -0.085210 -0.042933 -0.018526 -0.009371 -0.004384   \n",
       "gender        0.146706  0.116159  0.090858  0.021882  0.026320  0.039867   \n",
       "age          -0.209028 -0.127251 -0.074863 -0.069396  0.049817  0.055145   \n",
       "vis_wuhan     0.087330  0.094360  0.086113  0.063738  0.025780  0.016062   \n",
       "from_wuhan    0.036539  0.046923  0.068144  0.021704  0.018999  0.011837   \n",
       "symptom1      1.000000  0.519404  0.260397  0.095402 -0.002658  0.086430   \n",
       "symptom2      0.519404  1.000000  0.530968  0.329583  0.159823  0.072975   \n",
       "symptom3      0.260397  0.530968  1.000000  0.429853  0.120301  0.146347   \n",
       "symptom4      0.095402  0.329583  0.429853  1.000000  0.277558  0.110553   \n",
       "symptom5     -0.002658  0.159823  0.120301  0.277558  1.000000  0.265954   \n",
       "symptom6      0.086430  0.072975  0.146347  0.110553  0.265954  1.000000   \n",
       "diff_sym_hos -0.141160 -0.119052 -0.124293 -0.089592  0.003757 -0.000067   \n",
       "result       -0.163039 -0.103270 -0.074982 -0.108723  0.020676  0.012882   \n",
       "\n",
       "              diff_sym_hos    result  \n",
       "location         -0.119397  0.046240  \n",
       "country          -0.146037 -0.094443  \n",
       "gender           -0.176528 -0.061441  \n",
       "age               0.074573  0.515127  \n",
       "vis_wuhan         0.065908 -0.151122  \n",
       "from_wuhan        0.019706  0.128314  \n",
       "symptom1         -0.141160 -0.163039  \n",
       "symptom2         -0.119052 -0.103270  \n",
       "symptom3         -0.124293 -0.074982  \n",
       "symptom4         -0.089592 -0.108723  \n",
       "symptom5          0.003757  0.020676  \n",
       "symptom6         -0.000067  0.012882  \n",
       "diff_sym_hos      1.000000  0.219116  \n",
       "result            0.219116  1.000000  "
      ]
     },
     "execution_count": 12,
     "metadata": {},
     "output_type": "execute_result"
    }
   ],
   "source": [
    "data.corr()"
   ]
  },
  {
   "cell_type": "code",
   "execution_count": 13,
   "id": "0c3c38fe",
   "metadata": {},
   "outputs": [],
   "source": [
    "#we can better visualize the correlation in color with. The lighter the color, the greater the correlation value.\n",
    "\n",
    "if(graphing == 1):\n",
    "    plt.figure(figsize=(20, 17))\n",
    "    matrix = np.triu(data.corr())\n",
    "    sns.heatmap(data.corr(), annot=True, linewidth=.8, mask=matrix, cmap=\"rocket\");"
   ]
  },
  {
   "cell_type": "code",
   "execution_count": 14,
   "id": "0c51fc23",
   "metadata": {},
   "outputs": [],
   "source": [
    "# plt.figure(figsize=(20,8))\n",
    "# plt.title(\"Correlation Heatmap\")\n",
    "# sns.heatmap(data.corr(),annot=True,cmap=\"Reds\",fmt=\"f\",cbar=True)"
   ]
  },
  {
   "cell_type": "code",
   "execution_count": 15,
   "id": "f067b819",
   "metadata": {},
   "outputs": [
    {
     "name": "stdout",
     "output_type": "stream",
     "text": [
      "           Specs        Score\n",
      "3            age  1052.849185\n",
      "12  diff_sym_hos   223.527802\n",
      "0       location    36.951263\n",
      "6       symptom1    30.169106\n",
      "1        country    27.593793\n",
      "7       symptom2    18.334923\n",
      "4      vis_wuhan    16.123593\n",
      "5     from_wuhan    12.677731\n",
      "8       symptom3     2.172480\n",
      "2         gender     2.019685\n",
      "9       symptom4     1.205944\n",
      "10      symptom5     0.001994\n",
      "11      symptom6     0.000166\n"
     ]
    }
   ],
   "source": [
    "from sklearn.feature_selection import SelectKBest\n",
    "from sklearn.feature_selection import chi2\n",
    "\n",
    "X = data.drop(['result'],axis =1)\n",
    "y = data['result']\n",
    "\n",
    "bestfeatures = SelectKBest(score_func=chi2, k=10)\n",
    "fit = bestfeatures.fit(abs(X),y)\n",
    "dfscores = pd.DataFrame(fit.scores_)\n",
    "dfcolumns = pd.DataFrame(X.columns)\n",
    "featureScores = pd.concat([dfcolumns,dfscores],axis=1)\n",
    "featureScores.columns = ['Specs','Score']\n",
    "print(featureScores.nlargest(20,'Score')) "
   ]
  },
  {
   "cell_type": "markdown",
   "id": "e8604089",
   "metadata": {},
   "source": [
    "# Comment:\n",
    "\n",
    "\n",
    "## From the above table, we choosed to drop the last 5 insignificant features from the data\n",
    "- gender\n",
    "- symptom3\n",
    "- symptom4\n",
    "- symptom5\n",
    "- symptom6"
   ]
  },
  {
   "cell_type": "code",
   "execution_count": 16,
   "id": "14d7d285",
   "metadata": {},
   "outputs": [
    {
     "data": {
      "text/html": [
       "<div>\n",
       "<style scoped>\n",
       "    .dataframe tbody tr th:only-of-type {\n",
       "        vertical-align: middle;\n",
       "    }\n",
       "\n",
       "    .dataframe tbody tr th {\n",
       "        vertical-align: top;\n",
       "    }\n",
       "\n",
       "    .dataframe thead th {\n",
       "        text-align: right;\n",
       "    }\n",
       "</style>\n",
       "<table border=\"1\" class=\"dataframe\">\n",
       "  <thead>\n",
       "    <tr style=\"text-align: right;\">\n",
       "      <th></th>\n",
       "      <th>location</th>\n",
       "      <th>country</th>\n",
       "      <th>age</th>\n",
       "      <th>vis_wuhan</th>\n",
       "      <th>from_wuhan</th>\n",
       "      <th>symptom1</th>\n",
       "      <th>symptom2</th>\n",
       "      <th>diff_sym_hos</th>\n",
       "      <th>result</th>\n",
       "    </tr>\n",
       "  </thead>\n",
       "  <tbody>\n",
       "    <tr>\n",
       "      <th>0</th>\n",
       "      <td>104</td>\n",
       "      <td>8</td>\n",
       "      <td>66.0</td>\n",
       "      <td>1</td>\n",
       "      <td>0</td>\n",
       "      <td>14</td>\n",
       "      <td>31</td>\n",
       "      <td>8</td>\n",
       "      <td>1</td>\n",
       "    </tr>\n",
       "    <tr>\n",
       "      <th>1</th>\n",
       "      <td>101</td>\n",
       "      <td>8</td>\n",
       "      <td>56.0</td>\n",
       "      <td>0</td>\n",
       "      <td>1</td>\n",
       "      <td>14</td>\n",
       "      <td>31</td>\n",
       "      <td>0</td>\n",
       "      <td>0</td>\n",
       "    </tr>\n",
       "    <tr>\n",
       "      <th>2</th>\n",
       "      <td>137</td>\n",
       "      <td>8</td>\n",
       "      <td>46.0</td>\n",
       "      <td>0</td>\n",
       "      <td>1</td>\n",
       "      <td>14</td>\n",
       "      <td>31</td>\n",
       "      <td>13</td>\n",
       "      <td>0</td>\n",
       "    </tr>\n",
       "    <tr>\n",
       "      <th>3</th>\n",
       "      <td>116</td>\n",
       "      <td>8</td>\n",
       "      <td>60.0</td>\n",
       "      <td>1</td>\n",
       "      <td>0</td>\n",
       "      <td>14</td>\n",
       "      <td>31</td>\n",
       "      <td>0</td>\n",
       "      <td>0</td>\n",
       "    </tr>\n",
       "    <tr>\n",
       "      <th>4</th>\n",
       "      <td>116</td>\n",
       "      <td>8</td>\n",
       "      <td>58.0</td>\n",
       "      <td>0</td>\n",
       "      <td>0</td>\n",
       "      <td>14</td>\n",
       "      <td>31</td>\n",
       "      <td>0</td>\n",
       "      <td>0</td>\n",
       "    </tr>\n",
       "  </tbody>\n",
       "</table>\n",
       "</div>"
      ],
      "text/plain": [
       "   location  country   age  vis_wuhan  from_wuhan  symptom1  symptom2  \\\n",
       "0       104        8  66.0          1           0        14        31   \n",
       "1       101        8  56.0          0           1        14        31   \n",
       "2       137        8  46.0          0           1        14        31   \n",
       "3       116        8  60.0          1           0        14        31   \n",
       "4       116        8  58.0          0           0        14        31   \n",
       "\n",
       "   diff_sym_hos  result  \n",
       "0             8       1  \n",
       "1             0       0  \n",
       "2            13       0  \n",
       "3             0       0  \n",
       "4             0       0  "
      ]
     },
     "execution_count": 16,
     "metadata": {},
     "output_type": "execute_result"
    }
   ],
   "source": [
    "new_data = data\n",
    "\n",
    "# Dropping unnecessary columns\n",
    "new_data = new_data.drop([\"gender\", \"symptom3\", \"symptom4\", \"symptom5\", \"symptom6\"], axis=1)\n",
    "\n",
    "if(debug==1):\n",
    "    print(new_data.shape)\n",
    "new_data.head()"
   ]
  },
  {
   "cell_type": "markdown",
   "id": "1c88919c",
   "metadata": {},
   "source": [
    "# Scaling and Splitting"
   ]
  },
  {
   "cell_type": "code",
   "execution_count": 17,
   "id": "6eedaf1e",
   "metadata": {},
   "outputs": [],
   "source": [
    "x = new_data.iloc[:,:-1].values\n",
    "y = new_data.iloc[:,8].values\n",
    "\n",
    "if(debug==1):\n",
    "    print(x.shape)\n",
    "    print(y.shape)"
   ]
  },
  {
   "cell_type": "code",
   "execution_count": 18,
   "id": "16fea324",
   "metadata": {},
   "outputs": [],
   "source": [
    "X_train, X_test, y_train, y_test = train_test_split(x,y, test_size=0.1, random_state=42, shuffle=True)"
   ]
  },
  {
   "cell_type": "markdown",
   "id": "6a08b7ca",
   "metadata": {},
   "source": [
    "## Note:\n",
    "Different Random states gives different scores and this will effects the final scores of different classifiers\n",
    "\n",
    "Try changing the random state and see the last 2 cells and compare with previous outputs before changing the random state"
   ]
  },
  {
   "cell_type": "code",
   "execution_count": 19,
   "id": "d203047a",
   "metadata": {},
   "outputs": [],
   "source": [
    "if(debug==1):\n",
    "    print(X_train.shape)\n",
    "    print(y_train.shape)\n",
    "    print(X_test.shape)\n",
    "    print(y_test.shape)"
   ]
  },
  {
   "cell_type": "code",
   "execution_count": 20,
   "id": "0189d58a",
   "metadata": {},
   "outputs": [],
   "source": [
    "# Normalizing data before using cross-validation using KNN Classifier\n",
    "# KNN uses Euclidean distances so the data should be normalized\n",
    "\n",
    "sc_X = StandardScaler()\n",
    "X_train = sc_X.fit_transform(X_train)\n",
    "X_test = sc_X.transform(X_test)\n",
    "\n",
    "if(debug==1):\n",
    "    print(X_train)"
   ]
  },
  {
   "cell_type": "markdown",
   "id": "690f76db",
   "metadata": {},
   "source": [
    "# K-Nearest Neighbors"
   ]
  },
  {
   "cell_type": "markdown",
   "id": "d3479380",
   "metadata": {},
   "source": [
    "### Building Classifier and choosing optimal K using Cross Validation"
   ]
  },
  {
   "cell_type": "code",
   "execution_count": 21,
   "id": "b6b60644",
   "metadata": {},
   "outputs": [
    {
     "name": "stdout",
     "output_type": "stream",
     "text": [
      "score: 0.9142761336102457 , k = 1\n",
      "score: 0.917759172724126 , k = 3\n",
      "score: 0.9200739875389409 , k = 5\n",
      "score: 0.9258502076843198 , k = 9\n",
      "biggest success: 0.9258502076843198 , k = 9\n"
     ]
    }
   ],
   "source": [
    "temp = 0\n",
    "tempi = 0\n",
    "df = pd.DataFrame(columns = [\"k\",'score'])\n",
    "for i in range(1, 31, 2): \n",
    "    model=KNeighborsClassifier(n_neighbors=i)\n",
    "    cv_r2_scores_rf = cross_val_score(model,data.drop('result', 1),data['result'], cv=8)\n",
    "    mean = np.mean(cv_r2_scores_rf)\n",
    "    df.loc[i] = i\n",
    "    df.loc[i,'score'] = mean\n",
    "    if  mean > temp:\n",
    "        temp = mean\n",
    "        tempi = i\n",
    "        print (\"score:\",temp,\", k =\",tempi)\n",
    "print (\"biggest success:\",temp,\", k =\",tempi)"
   ]
  },
  {
   "cell_type": "code",
   "execution_count": 22,
   "id": "f0074271",
   "metadata": {},
   "outputs": [],
   "source": [
    "# # Hyperparameters to be tuned\n",
    "# knn = KNeighborsClassifier()\n",
    "\n",
    "# #print(knn.get_params().keys())\n",
    "\n",
    "# grid_params = { 'n_neighbors' : list(range(1,16)),\n",
    "#                'weights' : ['uniform','distance'],\n",
    "#                'metric' : ['minkowski','euclidean','manhattan']}\n",
    "\n",
    "# grid = GridSearchCV(knn, grid_params, cv=8, scoring='recall', n_jobs=-1,verbose=1)\n",
    "\n",
    "# # Fit the grid\n",
    "# grid.fit(X_train,y_train)\n",
    "\n",
    "# print(\"Best cross-validation score: {:.2f}\".format(grid.best_score_))\n",
    "# print(\"Best parameters: \\n{}\".format(grid.best_params_))"
   ]
  },
  {
   "cell_type": "markdown",
   "id": "dd67e9e9",
   "metadata": {},
   "source": [
    "# Printing out the different values of k used to train the model"
   ]
  },
  {
   "cell_type": "code",
   "execution_count": 23,
   "id": "8ee275db",
   "metadata": {},
   "outputs": [],
   "source": [
    "if(graphing == 1):\n",
    "    plt.figure(figsize=(16,8))\n",
    "    sns.barplot(y=df.score,x=df.k)\n",
    "    plt.title(\"k means score(Blue line shows the biggest score)\")\n",
    "    plt.axhline(0.9258502076843198,0,5)\n",
    "    plt.axhline(1)"
   ]
  },
  {
   "cell_type": "code",
   "execution_count": 24,
   "id": "fcb020de",
   "metadata": {},
   "outputs": [],
   "source": [
    "# param_grid = dict(n_neighbors=k_range)\n",
    "# knn_cv= GridSearchCV(knn,param_grid,cv=8,scoring='roc_auc')\n",
    "# knn_cv.fit(X_train, y_train)\n",
    "\n",
    "# # This scoring is for ROC/AUC score to choose the best K\n",
    "# # WE Will see about which score to use\n",
    "\n",
    "# print(\"Best Score: \" + str(knn_cv.best_score_))\n",
    "# print(\"Best Parameters: \" + str(knn_cv.best_params_))"
   ]
  },
  {
   "cell_type": "markdown",
   "id": "d81dc195",
   "metadata": {},
   "source": [
    "### Using the best parameters to train the model"
   ]
  },
  {
   "cell_type": "code",
   "execution_count": 25,
   "id": "dff20725",
   "metadata": {},
   "outputs": [],
   "source": [
    "knn = KNeighborsClassifier(n_neighbors=9)\n",
    "knn.fit(X_train, y_train)\n",
    "\n",
    "# using the model in prediction\n",
    "y_pred = knn.predict(X_test)"
   ]
  },
  {
   "cell_type": "code",
   "execution_count": 26,
   "id": "f8f5a189",
   "metadata": {},
   "outputs": [],
   "source": [
    "# KNN Confusion Matrix\n",
    "\n",
    "conf_mat = confusion_matrix(y_test, y_pred)"
   ]
  },
  {
   "cell_type": "code",
   "execution_count": 27,
   "id": "fcc00589",
   "metadata": {
    "scrolled": false
   },
   "outputs": [
    {
     "data": {
      "text/plain": [
       "Text(0.5, 15.0, 'Predicted label')"
      ]
     },
     "execution_count": 27,
     "metadata": {},
     "output_type": "execute_result"
    },
    {
     "data": {
      "image/png": "[encoded data removed]",
      "text/plain": [
       "<Figure size 432x288 with 2 Axes>"
      ]
     },
     "metadata": {
      "needs_background": "light"
     },
     "output_type": "display_data"
    }
   ],
   "source": [
    "p = sns.heatmap(pd.DataFrame(conf_mat), annot=True, cmap=\"YlGnBu\" ,fmt='g')\n",
    "plt.title('KNN Confusion matrix', y=1.1)\n",
    "plt.ylabel('Actual label')\n",
    "plt.xlabel('Predicted label')"
   ]
  },
  {
   "cell_type": "code",
   "execution_count": 28,
   "id": "523e37a5",
   "metadata": {},
   "outputs": [],
   "source": [
    "#Classification report\n",
    "\n",
    "#print(classification_report(y_test,y_pred))"
   ]
  },
  {
   "cell_type": "code",
   "execution_count": 29,
   "id": "e0bbe5be",
   "metadata": {},
   "outputs": [
    {
     "data": {
      "image/png": "[encoded data removed]",
      "text/plain": [
       "<Figure size 432x288 with 2 Axes>"
      ]
     },
     "metadata": {
      "needs_background": "light"
     },
     "output_type": "display_data"
    }
   ],
   "source": [
    "plot_report(y_test,y_pred,['Recovered','Dead'])"
   ]
  },
  {
   "cell_type": "markdown",
   "id": "be990340",
   "metadata": {},
   "source": [
    "## Creating some lists to save different scores of different classifiers to compare between them"
   ]
  },
  {
   "cell_type": "code",
   "execution_count": 30,
   "id": "7ff9a84f",
   "metadata": {},
   "outputs": [],
   "source": [
    "#we created a table for the training data scored\n",
    "accuracy_table = []\n",
    "precision_table = []\n",
    "recall_table = []\n",
    "f1_table = []\n",
    "roc_auc_table = []\n",
    "\n",
    "#another table for the test data scores\n",
    "accuracy_table_test = []\n",
    "precision_table_test = []\n",
    "recall_table_test = []\n",
    "f1_table_test = []\n",
    "roc_auc_table_test = []\n"
   ]
  },
  {
   "cell_type": "code",
   "execution_count": 31,
   "id": "81991b54",
   "metadata": {},
   "outputs": [],
   "source": [
    "# Adding the scores of the KNN Classifier of train dataset\n",
    "\n",
    "accuracy_table.append(cross_val_score(knn, X_train, y_train, cv = 8, scoring=\"accuracy\").mean())\n",
    "precision_table.append(cross_val_score(knn, X_train, y_train, cv = 8, scoring=\"precision\").mean())\n",
    "recall_table.append(cross_val_score(knn, X_train, y_train, cv = 8, scoring=\"recall\").mean())\n",
    "f1_table.append(cross_val_score(knn, X_train, y_train, cv = 8, scoring=\"f1\").mean())\n",
    "roc_auc_table.append(cross_val_score(knn, X_train, y_train, cv = 8, scoring=\"roc_auc\").mean())\n",
    "\n",
    "# Adding the scores of the KNN Classifier of test dataset\n",
    "\n",
    "accuracy_table_test.append(metrics.accuracy_score(y_test, y_pred))\n",
    "precision_table_test.append(metrics.precision_score(y_test, y_pred))\n",
    "recall_table_test.append(metrics.recall_score(y_test, y_pred))\n",
    "f1_table_test.append(metrics.f1_score(y_test, y_pred))\n",
    "roc_auc_table_test.append(metrics.roc_auc_score(y_test, y_pred))"
   ]
  },
  {
   "cell_type": "code",
   "execution_count": 32,
   "id": "d61c6a82",
   "metadata": {},
   "outputs": [],
   "source": [
    "#To draw ROC curve for KNN\n",
    "\n",
    "from sklearn.metrics import roc_curve, auc\n",
    "y_pred_proba = knn.predict_proba(X_test)[:,1]\n",
    "fpr, tpr, thresholds = roc_curve(y_test, y_pred_proba)\n",
    "roc_auc = auc(fpr, tpr)"
   ]
  },
  {
   "cell_type": "code",
   "execution_count": 33,
   "id": "e474f592",
   "metadata": {},
   "outputs": [
    {
     "data": {
      "image/png": "[encoded data removed]",
      "text/plain": [
       "<Figure size 432x288 with 1 Axes>"
      ]
     },
     "metadata": {
      "needs_background": "light"
     },
     "output_type": "display_data"
    }
   ],
   "source": [
    "plt.plot([0,1],[0,1],'k--')\n",
    "plt.plot(fpr,tpr,label = 'AUC = %0.4f' % roc_auc)\n",
    "plt.ylabel('True Positive Rate')\n",
    "plt.xlabel('False Positive Rate')\n",
    "plt.title('KNN With (K = 9) ROC curve (Train Data)')\n",
    "plt.legend(loc = 'lower right')\n",
    "plt.show()"
   ]
  },
  {
   "cell_type": "markdown",
   "id": "22c0a423",
   "metadata": {},
   "source": [
    "## Comment:\n",
    "\n",
    "The ROC/AUC Curve isn't completely smooth since the number of test samples are very small, but if we used the training data which contains more samples it gets smoother (see the below cells)"
   ]
  },
  {
   "cell_type": "code",
   "execution_count": 34,
   "id": "b7dd0108",
   "metadata": {},
   "outputs": [],
   "source": [
    "#To draw ROC curve for KNN\n",
    "y_pred_proba = knn.predict_proba(X_train)[:,1]\n",
    "fpr, tpr, thresholds = roc_curve(y_train, y_pred_proba)\n",
    "roc_auc = auc(fpr, tpr)"
   ]
  },
  {
   "cell_type": "code",
   "execution_count": 35,
   "id": "0a9a8c56",
   "metadata": {},
   "outputs": [
    {
     "data": {
      "image/png": "[encoded data removed]",
      "text/plain": [
       "<Figure size 432x288 with 1 Axes>"
      ]
     },
     "metadata": {
      "needs_background": "light"
     },
     "output_type": "display_data"
    }
   ],
   "source": [
    "plt.plot([0,1],[0,1],'k--')\n",
    "plt.plot(fpr,tpr,label = 'AUC = %0.4f' % roc_auc)\n",
    "plt.ylabel('True Positive Rate')\n",
    "plt.xlabel('False Positive Rate')\n",
    "plt.title('KNN With (K = 9) ROC curve (Train Data)')\n",
    "plt.legend(loc = 'lower right')\n",
    "plt.show()"
   ]
  },
  {
   "cell_type": "markdown",
   "id": "2635fdc7",
   "metadata": {},
   "source": [
    "# Logistic Regression"
   ]
  },
  {
   "cell_type": "code",
   "execution_count": 36,
   "id": "71890a2c",
   "metadata": {},
   "outputs": [],
   "source": [
    "from sklearn.linear_model import LogisticRegression"
   ]
  },
  {
   "cell_type": "code",
   "execution_count": 37,
   "id": "a3f624bc",
   "metadata": {},
   "outputs": [
    {
     "name": "stdout",
     "output_type": "stream",
     "text": [
      "Fitting 8 folds for each of 36 candidates, totalling 288 fits\n",
      "Best Score: 0.7019230769230769\n",
      "Best Parameters: {'C': 100, 'penalty': 'l1', 'solver': 'liblinear'}\n"
     ]
    }
   ],
   "source": [
    "# Hyperparameters to be tuned\n",
    "\n",
    "Log_reg = LogisticRegression()\n",
    "\n",
    "#LogisticRegression().get_params().keys()\n",
    "\n",
    "param_grid = {'solver': ['newton-cg', 'lbfgs', 'liblinear'],\n",
    "              'penalty': ['l1', 'l2'],\n",
    "              'C': [100, 10, 1, 0.1, 0.01, 0.001]}\n",
    "\n",
    "grid = GridSearchCV(Log_reg, param_grid, cv = 8, scoring='recall', n_jobs = -1, verbose = 1)\n",
    "grid.fit(X_train, y_train)\n",
    "\n",
    "# This scoring is for ROC/AUC score to choose the best K\n",
    "# WE Will see about which score to use\n",
    "\n",
    "print(\"Best Score: \" + str(grid.best_score_))\n",
    "print(\"Best Parameters: \" + str(grid.best_params_))"
   ]
  },
  {
   "cell_type": "code",
   "execution_count": 38,
   "id": "338bf0c0",
   "metadata": {},
   "outputs": [
    {
     "data": {
      "text/plain": [
       "LogisticRegression(C=100, penalty='l1', solver='liblinear')"
      ]
     },
     "execution_count": 38,
     "metadata": {},
     "output_type": "execute_result"
    }
   ],
   "source": [
    "# Use the best hyperparameters\n",
    "Logistic_clf = LogisticRegression(solver = 'liblinear', C=100 ,penalty = 'l1')\n",
    "Logistic_clf.fit(X_train, y_train)"
   ]
  },
  {
   "cell_type": "code",
   "execution_count": 39,
   "id": "5c953ee9",
   "metadata": {},
   "outputs": [],
   "source": [
    "y_pred = Logistic_clf.predict(X_test)"
   ]
  },
  {
   "cell_type": "code",
   "execution_count": 40,
   "id": "6fe28256",
   "metadata": {},
   "outputs": [],
   "source": [
    "# Logistic Regression Confusion Matrix\n",
    "\n",
    "conf_mat = confusion_matrix(y_test, y_pred)"
   ]
  },
  {
   "cell_type": "code",
   "execution_count": 41,
   "id": "f1903310",
   "metadata": {},
   "outputs": [
    {
     "data": {
      "text/plain": [
       "Text(0.5, 15.0, 'Predicted label')"
      ]
     },
     "execution_count": 41,
     "metadata": {},
     "output_type": "execute_result"
    },
    {
     "data": {
      "image/png": "[encoded data removed]",
      "text/plain": [
       "<Figure size 432x288 with 2 Axes>"
      ]
     },
     "metadata": {
      "needs_background": "light"
     },
     "output_type": "display_data"
    }
   ],
   "source": [
    "p = sns.heatmap(pd.DataFrame(conf_mat), annot=True, cmap=\"YlGnBu\" ,fmt='g')\n",
    "plt.title('Logistic Regression Confusion matrix', y=1.1)\n",
    "plt.ylabel('Actual label')\n",
    "plt.xlabel('Predicted label')"
   ]
  },
  {
   "cell_type": "code",
   "execution_count": 42,
   "id": "58d099d3",
   "metadata": {},
   "outputs": [
    {
     "data": {
      "image/png": "[encoded data removed]",
      "text/plain": [
       "<Figure size 432x288 with 2 Axes>"
      ]
     },
     "metadata": {
      "needs_background": "light"
     },
     "output_type": "display_data"
    }
   ],
   "source": [
    "#Classification report\n",
    "\n",
    "#print(classification_report(y_test,y_pred))\n",
    "plot_report(y_test,y_pred,['Recovered','Dead'])"
   ]
  },
  {
   "cell_type": "code",
   "execution_count": 43,
   "id": "c4f55459",
   "metadata": {},
   "outputs": [],
   "source": [
    "# Adding the scores of the Logistic Regression Classifier of train dataset\n",
    "\n",
    "accuracy_table.append(cross_val_score(Logistic_clf, X_train, y_train, scoring=\"accuracy\").mean())\n",
    "precision_table.append(cross_val_score(Logistic_clf, X_train, y_train, scoring=\"precision\").mean())\n",
    "recall_table.append(cross_val_score(Logistic_clf, X_train, y_train, scoring=\"recall\").mean())\n",
    "f1_table.append(cross_val_score(Logistic_clf, X_train, y_train, scoring=\"f1\").mean())\n",
    "roc_auc_table.append(cross_val_score(Logistic_clf, X_train, y_train, scoring=\"roc_auc\").mean())\n",
    "\n",
    "# Adding the scores of the Logistic Regression Classifier of test dataset\n",
    "\n",
    "accuracy_table_test.append(metrics.accuracy_score(y_test, y_pred))\n",
    "precision_table_test.append(metrics.precision_score(y_test, y_pred))\n",
    "recall_table_test.append(metrics.recall_score(y_test, y_pred))\n",
    "f1_table_test.append(metrics.f1_score(y_test, y_pred))\n",
    "roc_auc_table_test.append(metrics.roc_auc_score(y_test, y_pred))"
   ]
  },
  {
   "cell_type": "code",
   "execution_count": 44,
   "id": "7d2909f2",
   "metadata": {},
   "outputs": [],
   "source": [
    "#To draw ROC curve for Logistic Regression\n",
    "\n",
    "y_pred_proba = Logistic_clf.predict_proba(X_test)[:,1]\n",
    "fpr, tpr, thresholds = roc_curve(y_test, y_pred_proba)\n",
    "\n",
    "roc_auc = auc(fpr, tpr)"
   ]
  },
  {
   "cell_type": "code",
   "execution_count": 45,
   "id": "ad0c990f",
   "metadata": {},
   "outputs": [
    {
     "data": {
      "image/png": "[encoded data removed]",
      "text/plain": [
       "<Figure size 432x288 with 1 Axes>"
      ]
     },
     "metadata": {
      "needs_background": "light"
     },
     "output_type": "display_data"
    }
   ],
   "source": [
    "plt.plot([0,1],[0,1],'k--')\n",
    "plt.plot(fpr,tpr,label = 'AUC = %0.4f' % roc_auc)\n",
    "plt.ylabel('True Positive Rate')\n",
    "plt.xlabel('False Positive Rate')\n",
    "plt.title('Logistic Regression ROC curve')\n",
    "plt.legend(loc = 'lower right')\n",
    "plt.show()"
   ]
  },
  {
   "cell_type": "code",
   "execution_count": 46,
   "id": "2dffcd0c",
   "metadata": {},
   "outputs": [],
   "source": [
    "# y_pred_proba = Logistic_clf.predict_proba(X_test)[::,1]\n",
    "# fpr, tpr, _ = metrics.roc_curve(y_test,  y_pred_proba)\n",
    "\n",
    "# #create ROC curve\n",
    "# plt.plot(fpr,tpr)\n",
    "# plt.title('Logistic Regression ROC curve')\n",
    "# plt.ylabel('True Positive Rate')\n",
    "# plt.xlabel('False Positive Rate')\n",
    "# plt.show()"
   ]
  },
  {
   "cell_type": "markdown",
   "id": "9760b894",
   "metadata": {},
   "source": [
    "# Naive Bayes Classifier"
   ]
  },
  {
   "cell_type": "code",
   "execution_count": 47,
   "id": "552ecd4b",
   "metadata": {},
   "outputs": [],
   "source": [
    "from sklearn.naive_bayes import GaussianNB\n",
    " \n",
    "#Calling the Classr\n",
    "naive_bayes = GaussianNB()\n",
    " \n",
    "#Fitting the data to the classifier\n",
    "naive_bayes.fit(X_train , y_train)\n",
    " \n",
    "#Predict on test data\n",
    "y_pred = naive_bayes.predict(X_test)"
   ]
  },
  {
   "cell_type": "code",
   "execution_count": 48,
   "id": "f4107791",
   "metadata": {},
   "outputs": [],
   "source": [
    "# Adding the scores of the Naive bayes Classifier of train dataset\n",
    "\n",
    "accuracy_table.append(cross_val_score(naive_bayes, X_train, y_train, cv = 8, scoring=\"accuracy\").mean())\n",
    "precision_table.append(cross_val_score(naive_bayes, X_train, y_train, cv = 8, scoring=\"precision\").mean())\n",
    "recall_table.append(cross_val_score(naive_bayes, X_train, y_train, cv = 8, scoring=\"recall\").mean())\n",
    "f1_table.append(cross_val_score(naive_bayes, X_train, y_train, cv = 8, scoring=\"f1\").mean())\n",
    "roc_auc_table.append(cross_val_score(naive_bayes, X_train, y_train, cv = 8, scoring=\"roc_auc\").mean())\n",
    "\n",
    "# Adding the scores of the Naive bayes Classifier of test dataset\n",
    "\n",
    "accuracy_table_test.append(metrics.accuracy_score(y_test, y_pred))\n",
    "precision_table_test.append(metrics.precision_score(y_test, y_pred))\n",
    "recall_table_test.append(metrics.recall_score(y_test, y_pred))\n",
    "f1_table_test.append(metrics.f1_score(y_test, y_pred))\n",
    "roc_auc_table_test.append(metrics.roc_auc_score(y_test, y_pred))"
   ]
  },
  {
   "cell_type": "code",
   "execution_count": 49,
   "id": "a8cede14",
   "metadata": {},
   "outputs": [],
   "source": [
    "#To draw ROC curve for Naive bayes\n",
    "\n",
    "y_pred_proba = naive_bayes.predict_proba(X_test)[:,1]\n",
    "fpr, tpr, thresholds = roc_curve(y_test, y_pred_proba)\n",
    "roc_auc = auc(fpr, tpr)"
   ]
  },
  {
   "cell_type": "code",
   "execution_count": 50,
   "id": "8f7560dd",
   "metadata": {},
   "outputs": [],
   "source": [
    "# Naive bayes Confusion Matrix\n",
    "\n",
    "conf_mat = confusion_matrix(y_test, y_pred)"
   ]
  },
  {
   "cell_type": "code",
   "execution_count": 51,
   "id": "6ed99268",
   "metadata": {},
   "outputs": [
    {
     "data": {
      "text/plain": [
       "Text(0.5, 15.0, 'Predicted label')"
      ]
     },
     "execution_count": 51,
     "metadata": {},
     "output_type": "execute_result"
    },
    {
     "data": {
      "image/png": "[encoded data removed]",
      "text/plain": [
       "<Figure size 432x288 with 2 Axes>"
      ]
     },
     "metadata": {
      "needs_background": "light"
     },
     "output_type": "display_data"
    }
   ],
   "source": [
    "p = sns.heatmap(pd.DataFrame(conf_mat), annot=True, cmap=\"YlGnBu\" ,fmt='g')\n",
    "plt.title('Naive bayes Confusion matrix', y=1.1)\n",
    "plt.ylabel('Actual label')\n",
    "plt.xlabel('Predicted label')"
   ]
  },
  {
   "cell_type": "code",
   "execution_count": 52,
   "id": "2d377900",
   "metadata": {},
   "outputs": [
    {
     "data": {
      "image/png": "[encoded data removed]",
      "text/plain": [
       "<Figure size 432x288 with 2 Axes>"
      ]
     },
     "metadata": {
      "needs_background": "light"
     },
     "output_type": "display_data"
    }
   ],
   "source": [
    "#Classification report\n",
    "\n",
    "#print(classification_report(y_test,y_pred))\n",
    "\n",
    "plot_report(y_test,y_pred,['Recovered','Dead'])"
   ]
  },
  {
   "cell_type": "code",
   "execution_count": 53,
   "id": "05606700",
   "metadata": {},
   "outputs": [
    {
     "data": {
      "image/png": "[encoded data removed]",
      "text/plain": [
       "<Figure size 432x288 with 1 Axes>"
      ]
     },
     "metadata": {
      "needs_background": "light"
     },
     "output_type": "display_data"
    }
   ],
   "source": [
    "plt.plot([0,1],[0,1],'k--')\n",
    "plt.plot(fpr,tpr,label = 'AUC = %0.4f' % roc_auc)\n",
    "plt.ylabel('True Positive Rate')\n",
    "plt.xlabel('False Positive Rate')\n",
    "plt.title('Naive bayes ROC curve')\n",
    "plt.legend(loc = 'lower right')\n",
    "plt.show()"
   ]
  },
  {
   "cell_type": "code",
   "execution_count": null,
   "id": "cf0df742",
   "metadata": {},
   "outputs": [],
   "source": []
  },
  {
   "cell_type": "code",
   "execution_count": null,
   "id": "c264870f",
   "metadata": {},
   "outputs": [],
   "source": []
  },
  {
   "cell_type": "markdown",
   "id": "e595c14e",
   "metadata": {},
   "source": [
    "# Phase 2"
   ]
  },
  {
   "cell_type": "markdown",
   "id": "15341941",
   "metadata": {},
   "source": [
    "# Decision Tree Classifier"
   ]
  },
  {
   "cell_type": "code",
   "execution_count": 54,
   "id": "79d8b49b",
   "metadata": {},
   "outputs": [],
   "source": [
    "from sklearn.tree import DecisionTreeClassifier"
   ]
  },
  {
   "cell_type": "code",
   "execution_count": 55,
   "id": "3ce06695",
   "metadata": {},
   "outputs": [
    {
     "name": "stdout",
     "output_type": "stream",
     "text": [
      "Fitting 8 folds for each of 144 candidates, totalling 1152 fits\n",
      "Best Score: 0.8878205128205128\n",
      "Best Parameters: {'criterion': 'gini', 'max_depth': 4, 'min_samples_leaf': 6}\n"
     ]
    }
   ],
   "source": [
    "DT = DecisionTreeClassifier()\n",
    "\n",
    "param_grid = {'criterion': [\"gini\", \"entropy\"],\n",
    "        'max_depth': range(1, 10),\n",
    "        'min_samples_leaf': range(2, 10),\n",
    "        }\n",
    "\n",
    "grid = GridSearchCV(DT, param_grid, n_jobs=-1, cv=8, verbose=1, scoring='recall')\n",
    "grid.fit(X_train, y_train)\n",
    "\n",
    "# This scoring is for Recall score\n",
    "# WE Will see about which score to use\n",
    "\n",
    "print(\"Best Score: \" + str(grid.best_score_))\n",
    "print(\"Best Parameters: \" + str(grid.best_params_))"
   ]
  },
  {
   "cell_type": "code",
   "execution_count": 56,
   "id": "e03fa7e7",
   "metadata": {},
   "outputs": [
    {
     "data": {
      "text/plain": [
       "DecisionTreeClassifier(max_depth=4, min_samples_leaf=6)"
      ]
     },
     "execution_count": 56,
     "metadata": {},
     "output_type": "execute_result"
    }
   ],
   "source": [
    "# Use the best hyperparameters\n",
    "DT_clf = DecisionTreeClassifier(criterion = 'gini', max_depth = 4, min_samples_leaf = 6)\n",
    "DT_clf.fit(X_train, y_train)"
   ]
  },
  {
   "cell_type": "code",
   "execution_count": 57,
   "id": "4b7e185a",
   "metadata": {},
   "outputs": [],
   "source": [
    "y_pred = DT_clf.predict(X_test)"
   ]
  },
  {
   "cell_type": "code",
   "execution_count": 58,
   "id": "63c62775",
   "metadata": {},
   "outputs": [],
   "source": [
    "# Decision Tree Confusion Matrix\n",
    "\n",
    "conf_mat = confusion_matrix(y_test, y_pred)"
   ]
  },
  {
   "cell_type": "code",
   "execution_count": 59,
   "id": "c3ff4057",
   "metadata": {},
   "outputs": [
    {
     "data": {
      "text/plain": [
       "Text(0.5, 15.0, 'Predicted label')"
      ]
     },
     "execution_count": 59,
     "metadata": {},
     "output_type": "execute_result"
    },
    {
     "data": {
      "image/png": "[encoded data removed]",
      "text/plain": [
       "<Figure size 432x288 with 2 Axes>"
      ]
     },
     "metadata": {
      "needs_background": "light"
     },
     "output_type": "display_data"
    }
   ],
   "source": [
    "p = sns.heatmap(pd.DataFrame(conf_mat), annot=True, cmap=\"YlGnBu\" ,fmt='g')\n",
    "plt.title('Decision Tree Confusion matrix', y=1.1)\n",
    "plt.ylabel('Actual label')\n",
    "plt.xlabel('Predicted label')"
   ]
  },
  {
   "cell_type": "code",
   "execution_count": 60,
   "id": "a1fa7f9e",
   "metadata": {},
   "outputs": [
    {
     "data": {
      "image/png": "[encoded data removed]",
      "text/plain": [
       "<Figure size 432x288 with 2 Axes>"
      ]
     },
     "metadata": {
      "needs_background": "light"
     },
     "output_type": "display_data"
    }
   ],
   "source": [
    "#Classification report\n",
    "\n",
    "#print(classification_report(y_test,y_pred))\n",
    "plot_report(y_test,y_pred,['Recovered','Dead'])"
   ]
  },
  {
   "cell_type": "code",
   "execution_count": 61,
   "id": "ee6722e9",
   "metadata": {},
   "outputs": [
    {
     "data": {
      "image/png": "[encoded data removed]",
      "text/plain": [
       "<Figure size 1440x1440 with 1 Axes>"
      ]
     },
     "metadata": {
      "needs_background": "light"
     },
     "output_type": "display_data"
    }
   ],
   "source": [
    "from sklearn import tree\n",
    "\n",
    "feature_cols = [\"location\", \"country\", \"age\", \"vis_wuhan\", \"from_wuhan\", \"symptom1\", \"symptom2\", \"diff_sym_hos\"]\n",
    "\n",
    "fig = plt.figure(figsize=(20,20))\n",
    "_ = tree.plot_tree(DT_clf, \n",
    "                   feature_names=feature_cols,  \n",
    "                   class_names=['0', '1'], rounded = True,\n",
    "                   filled=True)"
   ]
  },
  {
   "cell_type": "code",
   "execution_count": 62,
   "id": "7af27af8",
   "metadata": {},
   "outputs": [],
   "source": [
    "# Adding the scores of the Decision Tree Classifier of train dataset\n",
    "\n",
    "accuracy_table.append(cross_val_score(DT_clf, X_train, y_train, scoring=\"accuracy\").mean())\n",
    "precision_table.append(cross_val_score(DT_clf, X_train, y_train, scoring=\"precision\").mean())\n",
    "recall_table.append(cross_val_score(DT_clf, X_train, y_train, scoring=\"recall\").mean())\n",
    "f1_table.append(cross_val_score(DT_clf, X_train, y_train, scoring=\"f1\").mean())\n",
    "roc_auc_table.append(cross_val_score(DT_clf, X_train, y_train, scoring=\"roc_auc\").mean())\n",
    "\n",
    "# Adding the scores of the Decision Tree Classifier of test dataset\n",
    "\n",
    "accuracy_table_test.append(metrics.accuracy_score(y_test, y_pred))\n",
    "precision_table_test.append(metrics.precision_score(y_test, y_pred))\n",
    "recall_table_test.append(metrics.recall_score(y_test, y_pred))\n",
    "f1_table_test.append(metrics.f1_score(y_test, y_pred))\n",
    "roc_auc_table_test.append(metrics.roc_auc_score(y_test, y_pred))"
   ]
  },
  {
   "cell_type": "code",
   "execution_count": 63,
   "id": "74483e97",
   "metadata": {},
   "outputs": [],
   "source": [
    "#To draw ROC curve for Decision Tree\n",
    "\n",
    "y_pred_proba = DT_clf.predict_proba(X_test)[:,1]\n",
    "fpr, tpr, thresholds = roc_curve(y_test, y_pred_proba)\n",
    "\n",
    "roc_auc = auc(fpr, tpr)"
   ]
  },
  {
   "cell_type": "code",
   "execution_count": 64,
   "id": "4adcd593",
   "metadata": {},
   "outputs": [
    {
     "data": {
      "image/png": "[encoded data removed]",
      "text/plain": [
       "<Figure size 432x288 with 1 Axes>"
      ]
     },
     "metadata": {
      "needs_background": "light"
     },
     "output_type": "display_data"
    }
   ],
   "source": [
    "plt.plot([0,1],[0,1],'k--')\n",
    "plt.plot(fpr,tpr,label = 'AUC = %0.4f' % roc_auc)\n",
    "plt.ylabel('True Positive Rate')\n",
    "plt.xlabel('False Positive Rate')\n",
    "plt.title('Decision Tree ROC curve')\n",
    "plt.legend(loc = 'lower right')\n",
    "plt.show()"
   ]
  },
  {
   "cell_type": "code",
   "execution_count": null,
   "id": "9cc7de25",
   "metadata": {},
   "outputs": [],
   "source": []
  },
  {
   "cell_type": "code",
   "execution_count": null,
   "id": "1d7ccc89",
   "metadata": {},
   "outputs": [],
   "source": []
  },
  {
   "cell_type": "markdown",
   "id": "b4897221",
   "metadata": {},
   "source": [
    "# Support Vector Machine (SVM) Classifier:"
   ]
  },
  {
   "cell_type": "code",
   "execution_count": 65,
   "id": "db76aba4",
   "metadata": {},
   "outputs": [],
   "source": [
    "from sklearn.svm import SVC"
   ]
  },
  {
   "cell_type": "code",
   "execution_count": 66,
   "id": "55dcfbbf",
   "metadata": {},
   "outputs": [
    {
     "data": {
      "text/plain": [
       "dict_keys(['C', 'break_ties', 'cache_size', 'class_weight', 'coef0', 'decision_function_shape', 'degree', 'gamma', 'kernel', 'max_iter', 'probability', 'random_state', 'shrinking', 'tol', 'verbose'])"
      ]
     },
     "execution_count": 66,
     "metadata": {},
     "output_type": "execute_result"
    }
   ],
   "source": [
    "SVM = SVC()\n",
    "SVM.get_params().keys()"
   ]
  },
  {
   "cell_type": "code",
   "execution_count": 67,
   "id": "e70ae41e",
   "metadata": {},
   "outputs": [
    {
     "name": "stdout",
     "output_type": "stream",
     "text": [
      "Fitting 8 folds for each of 200 candidates, totalling 1600 fits\n",
      "Best Score: 0.7828525641025641\n",
      "Best Parameters: {'C': 1000, 'degree': 1, 'gamma': 'scale', 'kernel': 'rbf'}\n"
     ]
    }
   ],
   "source": [
    "SVM = SVC()\n",
    "\n",
    "param_grid = {'kernel': ['linear', 'poly', 'rbf', 'sigmoid'],\n",
    "        'gamma': ['scale', 'auto'],\n",
    "        'C': [1, 10, 100, 1000, 10000],\n",
    "        'degree': range(1,6)\n",
    "        }\n",
    "\n",
    "grid = GridSearchCV(SVM, param_grid, n_jobs=-1, cv=8, verbose=1, scoring='recall')\n",
    "grid.fit(X_train, y_train)\n",
    "\n",
    "# This scoring is for Recall score\n",
    "# WE Will see about which score to use\n",
    "\n",
    "print(\"Best Score: \" + str(grid.best_score_))\n",
    "print(\"Best Parameters: \" + str(grid.best_params_))"
   ]
  },
  {
   "cell_type": "code",
   "execution_count": 68,
   "id": "14ef53cf",
   "metadata": {},
   "outputs": [
    {
     "data": {
      "text/plain": [
       "SVC(C=1000, degree=1, probability=True)"
      ]
     },
     "execution_count": 68,
     "metadata": {},
     "output_type": "execute_result"
    }
   ],
   "source": [
    "# Use the best hyperparameters\n",
    "SVM_clf = SVC(C = 1000, degree = 1, gamma = 'scale', kernel = 'rbf', probability = True)\n",
    "SVM_clf.fit(X_train, y_train)"
   ]
  },
  {
   "cell_type": "code",
   "execution_count": 69,
   "id": "8267aaa1",
   "metadata": {},
   "outputs": [],
   "source": [
    "y_pred = SVM_clf.predict(X_test)"
   ]
  },
  {
   "cell_type": "code",
   "execution_count": 70,
   "id": "22a72ae3",
   "metadata": {},
   "outputs": [],
   "source": [
    "# SVM Confusion Matrix\n",
    "\n",
    "conf_mat = confusion_matrix(y_test, y_pred)"
   ]
  },
  {
   "cell_type": "code",
   "execution_count": 71,
   "id": "4d4fc4ca",
   "metadata": {},
   "outputs": [
    {
     "data": {
      "text/plain": [
       "Text(0.5, 15.0, 'Predicted label')"
      ]
     },
     "execution_count": 71,
     "metadata": {},
     "output_type": "execute_result"
    },
    {
     "data": {
      "image/png": "[encoded data removed]",
      "text/plain": [
       "<Figure size 432x288 with 2 Axes>"
      ]
     },
     "metadata": {
      "needs_background": "light"
     },
     "output_type": "display_data"
    }
   ],
   "source": [
    "p = sns.heatmap(pd.DataFrame(conf_mat), annot=True, cmap=\"YlGnBu\" ,fmt='g')\n",
    "plt.title('SVM Confusion matrix', y=1.1)\n",
    "plt.ylabel('Actual label')\n",
    "plt.xlabel('Predicted label')"
   ]
  },
  {
   "cell_type": "code",
   "execution_count": 72,
   "id": "fa7e9475",
   "metadata": {},
   "outputs": [
    {
     "data": {
      "image/png": "[encoded data removed]",
      "text/plain": [
       "<Figure size 432x288 with 2 Axes>"
      ]
     },
     "metadata": {
      "needs_background": "light"
     },
     "output_type": "display_data"
    }
   ],
   "source": [
    "#Classification report\n",
    "\n",
    "#print(classification_report(y_test,y_pred))\n",
    "plot_report(y_test,y_pred,['Recovered','Dead'])"
   ]
  },
  {
   "cell_type": "code",
   "execution_count": 73,
   "id": "bcc2a160",
   "metadata": {},
   "outputs": [],
   "source": [
    "# Adding the scores of the Decision SVM Classifier of train dataset\n",
    "\n",
    "accuracy_table.append(cross_val_score(SVM_clf, X_train, y_train, scoring=\"accuracy\").mean())\n",
    "precision_table.append(cross_val_score(SVM_clf, X_train, y_train, scoring=\"precision\").mean())\n",
    "recall_table.append(cross_val_score(SVM_clf, X_train, y_train, scoring=\"recall\").mean())\n",
    "f1_table.append(cross_val_score(SVM_clf, X_train, y_train, scoring=\"f1\").mean())\n",
    "roc_auc_table.append(cross_val_score(SVM_clf, X_train, y_train, scoring=\"roc_auc\").mean())\n",
    "\n",
    "# Adding the scores of the SVM Classifier of test dataset\n",
    "\n",
    "accuracy_table_test.append(metrics.accuracy_score(y_test, y_pred))\n",
    "precision_table_test.append(metrics.precision_score(y_test, y_pred))\n",
    "recall_table_test.append(metrics.recall_score(y_test, y_pred))\n",
    "f1_table_test.append(metrics.f1_score(y_test, y_pred))\n",
    "roc_auc_table_test.append(metrics.roc_auc_score(y_test, y_pred))"
   ]
  },
  {
   "cell_type": "code",
   "execution_count": 74,
   "id": "45da24a3",
   "metadata": {},
   "outputs": [],
   "source": [
    "#To draw ROC curve for SVM\n",
    "\n",
    "y_pred_proba = SVM_clf.predict_proba(X_test)[:,1]\n",
    "fpr, tpr, thresholds = roc_curve(y_test, y_pred_proba)\n",
    "\n",
    "roc_auc = auc(fpr, tpr)"
   ]
  },
  {
   "cell_type": "code",
   "execution_count": 75,
   "id": "cc7093a5",
   "metadata": {},
   "outputs": [
    {
     "data": {
      "image/png": "[encoded data removed]",
      "text/plain": [
       "<Figure size 432x288 with 1 Axes>"
      ]
     },
     "metadata": {
      "needs_background": "light"
     },
     "output_type": "display_data"
    }
   ],
   "source": [
    "plt.plot([0,1],[0,1],'k--')\n",
    "plt.plot(fpr,tpr,label = 'AUC = %0.4f' % roc_auc)\n",
    "plt.ylabel('True Positive Rate')\n",
    "plt.xlabel('False Positive Rate')\n",
    "plt.title('SVM ROC curve')\n",
    "plt.legend(loc = 'lower right')\n",
    "plt.show()"
   ]
  },
  {
   "cell_type": "markdown",
   "id": "a9913bdd",
   "metadata": {},
   "source": [
    "## Comment for ROCs Curves:\n",
    "\n",
    "The ROC/AUC Curve isn't completely smooth since the number of test samples are very small, but if we used the training data which contains more samples it gets smoother (see the below cells)"
   ]
  },
  {
   "cell_type": "code",
   "execution_count": null,
   "id": "bc9fbd2b",
   "metadata": {},
   "outputs": [],
   "source": []
  },
  {
   "cell_type": "markdown",
   "id": "a3f89e47",
   "metadata": {},
   "source": [
    "# Tabulating Different metrics"
   ]
  },
  {
   "cell_type": "code",
   "execution_count": 76,
   "id": "499653ea",
   "metadata": {},
   "outputs": [
    {
     "data": {
      "text/html": [
       "<div>\n",
       "<style scoped>\n",
       "    .dataframe tbody tr th:only-of-type {\n",
       "        vertical-align: middle;\n",
       "    }\n",
       "\n",
       "    .dataframe tbody tr th {\n",
       "        vertical-align: top;\n",
       "    }\n",
       "\n",
       "    .dataframe thead th {\n",
       "        text-align: right;\n",
       "    }\n",
       "</style>\n",
       "<table border=\"1\" class=\"dataframe\">\n",
       "  <thead>\n",
       "    <tr style=\"text-align: right;\">\n",
       "      <th></th>\n",
       "      <th>Classifier</th>\n",
       "      <th>Accuracy</th>\n",
       "      <th>Precision</th>\n",
       "      <th>Recall</th>\n",
       "      <th>f1 score</th>\n",
       "      <th>ROC/AUC</th>\n",
       "    </tr>\n",
       "  </thead>\n",
       "  <tbody>\n",
       "    <tr>\n",
       "      <th>0</th>\n",
       "      <td>KNN</td>\n",
       "      <td>0.918814</td>\n",
       "      <td>0.860268</td>\n",
       "      <td>0.436699</td>\n",
       "      <td>0.570856</td>\n",
       "      <td>0.953512</td>\n",
       "    </tr>\n",
       "    <tr>\n",
       "      <th>1</th>\n",
       "      <td>Logistic Regression</td>\n",
       "      <td>0.940728</td>\n",
       "      <td>0.798519</td>\n",
       "      <td>0.701579</td>\n",
       "      <td>0.740230</td>\n",
       "      <td>0.951165</td>\n",
       "    </tr>\n",
       "    <tr>\n",
       "      <th>2</th>\n",
       "      <td>Naive bayes</td>\n",
       "      <td>0.885309</td>\n",
       "      <td>0.545238</td>\n",
       "      <td>0.730769</td>\n",
       "      <td>0.618779</td>\n",
       "      <td>0.900158</td>\n",
       "    </tr>\n",
       "    <tr>\n",
       "      <th>3</th>\n",
       "      <td>Decision Tree</td>\n",
       "      <td>0.942018</td>\n",
       "      <td>0.742060</td>\n",
       "      <td>0.815263</td>\n",
       "      <td>0.775157</td>\n",
       "      <td>0.962149</td>\n",
       "    </tr>\n",
       "    <tr>\n",
       "      <th>4</th>\n",
       "      <td>SVM</td>\n",
       "      <td>0.939462</td>\n",
       "      <td>0.754161</td>\n",
       "      <td>0.776316</td>\n",
       "      <td>0.761236</td>\n",
       "      <td>0.965672</td>\n",
       "    </tr>\n",
       "  </tbody>\n",
       "</table>\n",
       "</div>"
      ],
      "text/plain": [
       "            Classifier  Accuracy  Precision    Recall  f1 score   ROC/AUC\n",
       "0                  KNN  0.918814   0.860268  0.436699  0.570856  0.953512\n",
       "1  Logistic Regression  0.940728   0.798519  0.701579  0.740230  0.951165\n",
       "2          Naive bayes  0.885309   0.545238  0.730769  0.618779  0.900158\n",
       "3        Decision Tree  0.942018   0.742060  0.815263  0.775157  0.962149\n",
       "4                  SVM  0.939462   0.754161  0.776316  0.761236  0.965672"
      ]
     },
     "execution_count": 76,
     "metadata": {},
     "output_type": "execute_result"
    }
   ],
   "source": [
    "# Tabulating the different metrics\n",
    "\n",
    "final_table = dict()\n",
    "final_table[\"Classifier\"] = [\"KNN\",\"Logistic Regression\", \"Naive bayes\", \"Decision Tree\", \"SVM\"]\n",
    "final_table[\"Accuracy\"] = accuracy_table\n",
    "final_table[\"Precision\"] = precision_table\n",
    "final_table[\"Recall\"] = recall_table\n",
    "final_table[\"f1 score\"] = f1_table\n",
    "final_table[\"ROC/AUC\"] = roc_auc_table\n",
    "\n",
    "\n",
    "df = pd.DataFrame(final_table)\n",
    "df.head()"
   ]
  },
  {
   "cell_type": "markdown",
   "id": "7da68371",
   "metadata": {},
   "source": [
    "## Comment for Phase 1:\n",
    "From the table we see that Logistic Regression has the highest f1 score, accuracy and a high ROC/AUC score."
   ]
  },
  {
   "cell_type": "markdown",
   "id": "dcce87ba",
   "metadata": {},
   "source": [
    "## Comment for Phase 2:\n",
    "we can see that the Decision Tree has higher metrics compared to the SVM on the training data.\n",
    "but After comparing the metrics on the test data, we concluded that the Tree tend to overfit the data a little which explains why it performs better on the training data."
   ]
  },
  {
   "cell_type": "code",
   "execution_count": 77,
   "id": "4a277a0c",
   "metadata": {},
   "outputs": [
    {
     "data": {
      "text/plain": [
       "<matplotlib.lines.Line2D at 0x1e394fd8bb0>"
      ]
     },
     "execution_count": 77,
     "metadata": {},
     "output_type": "execute_result"
    },
    {
     "data": {
      "image/png": "[encoded data removed]",
      "text/plain": [
       "<Figure size 1080x1080 with 6 Axes>"
      ]
     },
     "metadata": {
      "needs_background": "light"
     },
     "output_type": "display_data"
    }
   ],
   "source": [
    "fig, axes = plt.subplots(3, 2, figsize=(15, 15), sharey=True)\n",
    "fig.suptitle('Comparing different scores')\n",
    "\n",
    "# Accuracy\n",
    "sns.barplot(ax=axes[0][0], y=final_table[\"Accuracy\"],x=[\"KNN\",\"Log Reg\", \"Naive bayes\", \"Decision Tree\", \"SVM\"])\n",
    "axes[0][0].set_title(\"Accuracy\")\n",
    "#axes[0][0].axhline(0.940728,0,5)\n",
    "axes[0][0].axhline(1)\n",
    "\n",
    "# Precision\n",
    "sns.barplot(ax=axes[0][1], y=final_table[\"Precision\"],x=[\"KNN\",\"Log Reg\", \"Naive bayes\", \"Decision Tree\", \"SVM\"])\n",
    "axes[0][1].set_title(\"Precision\")\n",
    "#axes[0][1].axhline(0.860268,0,5)\n",
    "axes[0][1].axhline(1)\n",
    "\n",
    "# Recall\n",
    "sns.barplot(ax=axes[1][0], y=final_table[\"Recall\"],x=[\"KNN\",\"Log Reg\", \"Naive bayes\", \"Decision Tree\", \"SVM\"])\n",
    "axes[1][0].set_title(\"Recall\")\n",
    "#axes[1][0].axhline(0.730769,0,5)\n",
    "axes[1][0].axhline(1)\n",
    "\n",
    "# f1 score\n",
    "sns.barplot(ax=axes[1][1], y=final_table[\"f1 score\"],x=[\"KNN\",\"Log Reg\", \"Naive bayes\", \"Decision Tree\", \"SVM\"])\n",
    "axes[1][1].set_title(\"f1 score\")\n",
    "#axes[1][1].axhline(0.740230,0,5)\n",
    "axes[1][1].axhline(1)\n",
    "\n",
    "# ROC/AUC\n",
    "sns.barplot(ax=axes[2][0], y=final_table[\"ROC/AUC\"],x=[\"KNN\",\"Log Reg\", \"Naive bayes\", \"Decision Tree\", \"SVM\"])\n",
    "axes[2][0].set_title(\"ROC/AUC\")\n",
    "#axes[2][0].axhline(0.953512,0,5)\n",
    "axes[2][0].axhline(1)"
   ]
  },
  {
   "cell_type": "markdown",
   "id": "01f9b30a",
   "metadata": {},
   "source": [
    "# And then we print the table for the metrices on the predicted data"
   ]
  },
  {
   "cell_type": "code",
   "execution_count": 78,
   "id": "a6f73fd6",
   "metadata": {},
   "outputs": [
    {
     "data": {
      "text/html": [
       "<div>\n",
       "<style scoped>\n",
       "    .dataframe tbody tr th:only-of-type {\n",
       "        vertical-align: middle;\n",
       "    }\n",
       "\n",
       "    .dataframe tbody tr th {\n",
       "        vertical-align: top;\n",
       "    }\n",
       "\n",
       "    .dataframe thead th {\n",
       "        text-align: right;\n",
       "    }\n",
       "</style>\n",
       "<table border=\"1\" class=\"dataframe\">\n",
       "  <thead>\n",
       "    <tr style=\"text-align: right;\">\n",
       "      <th></th>\n",
       "      <th>Classifier</th>\n",
       "      <th>Accuracy</th>\n",
       "      <th>Precision</th>\n",
       "      <th>Recall</th>\n",
       "      <th>f1 score</th>\n",
       "      <th>ROC/AUC</th>\n",
       "    </tr>\n",
       "  </thead>\n",
       "  <tbody>\n",
       "    <tr>\n",
       "      <th>0</th>\n",
       "      <td>KNN</td>\n",
       "      <td>0.954023</td>\n",
       "      <td>0.875000</td>\n",
       "      <td>0.7</td>\n",
       "      <td>0.777778</td>\n",
       "      <td>0.843506</td>\n",
       "    </tr>\n",
       "    <tr>\n",
       "      <th>1</th>\n",
       "      <td>Logistic Regression</td>\n",
       "      <td>0.954023</td>\n",
       "      <td>0.875000</td>\n",
       "      <td>0.7</td>\n",
       "      <td>0.777778</td>\n",
       "      <td>0.843506</td>\n",
       "    </tr>\n",
       "    <tr>\n",
       "      <th>2</th>\n",
       "      <td>Naive bayes</td>\n",
       "      <td>0.908046</td>\n",
       "      <td>0.600000</td>\n",
       "      <td>0.6</td>\n",
       "      <td>0.600000</td>\n",
       "      <td>0.774026</td>\n",
       "    </tr>\n",
       "    <tr>\n",
       "      <th>3</th>\n",
       "      <td>Decision Tree</td>\n",
       "      <td>0.965517</td>\n",
       "      <td>0.888889</td>\n",
       "      <td>0.8</td>\n",
       "      <td>0.842105</td>\n",
       "      <td>0.893506</td>\n",
       "    </tr>\n",
       "    <tr>\n",
       "      <th>4</th>\n",
       "      <td>SVM</td>\n",
       "      <td>0.977011</td>\n",
       "      <td>0.900000</td>\n",
       "      <td>0.9</td>\n",
       "      <td>0.900000</td>\n",
       "      <td>0.943506</td>\n",
       "    </tr>\n",
       "  </tbody>\n",
       "</table>\n",
       "</div>"
      ],
      "text/plain": [
       "            Classifier  Accuracy  Precision  Recall  f1 score   ROC/AUC\n",
       "0                  KNN  0.954023   0.875000     0.7  0.777778  0.843506\n",
       "1  Logistic Regression  0.954023   0.875000     0.7  0.777778  0.843506\n",
       "2          Naive bayes  0.908046   0.600000     0.6  0.600000  0.774026\n",
       "3        Decision Tree  0.965517   0.888889     0.8  0.842105  0.893506\n",
       "4                  SVM  0.977011   0.900000     0.9  0.900000  0.943506"
      ]
     },
     "execution_count": 78,
     "metadata": {},
     "output_type": "execute_result"
    }
   ],
   "source": [
    "# Tabulating the different metrics\n",
    "\n",
    "final_table_test = dict()\n",
    "final_table_test[\"Classifier\"] = [\"KNN\",\"Logistic Regression\", \"Naive bayes\", \"Decision Tree\", \"SVM\"]\n",
    "final_table_test[\"Accuracy\"] = accuracy_table_test\n",
    "final_table_test[\"Precision\"] = precision_table_test\n",
    "final_table_test[\"Recall\"] = recall_table_test\n",
    "final_table_test[\"f1 score\"] = f1_table_test\n",
    "final_table_test[\"ROC/AUC\"] = roc_auc_table_test\n",
    "\n",
    "\n",
    "df = pd.DataFrame(final_table_test)\n",
    "df.head()"
   ]
  },
  {
   "cell_type": "markdown",
   "id": "5d9624fa",
   "metadata": {},
   "source": [
    "# Then we visualize the different scores on the different models."
   ]
  },
  {
   "cell_type": "code",
   "execution_count": 79,
   "id": "c8a013e5",
   "metadata": {},
   "outputs": [
    {
     "data": {
      "text/plain": [
       "<matplotlib.lines.Line2D at 0x1e3951f6220>"
      ]
     },
     "execution_count": 79,
     "metadata": {},
     "output_type": "execute_result"
    },
    {
     "data": {
      "image/png": "[encoded data removed]",
      "text/plain": [
       "<Figure size 1080x1080 with 6 Axes>"
      ]
     },
     "metadata": {
      "needs_background": "light"
     },
     "output_type": "display_data"
    }
   ],
   "source": [
    "fig, axes = plt.subplots(3, 2, figsize=(15, 15), sharey=True)\n",
    "fig.suptitle('Comparing different scores')\n",
    "\n",
    "# Accuracy\n",
    "sns.barplot(ax=axes[0][0], y=final_table_test[\"Accuracy\"],x=[\"KNN\",\"Log Reg\", \"Naive bayes\", \"Decision Tree\", \"SVM\"])\n",
    "axes[0][0].set_title(\"Accuracy\")\n",
    "#axes[0][0].axhline(0.954023,0,5)\n",
    "axes[0][0].axhline(1)\n",
    "\n",
    "# Precision\n",
    "sns.barplot(ax=axes[0][1], y=final_table_test[\"Precision\"],x=[\"KNN\",\"Log Reg\", \"Naive bayes\", \"Decision Tree\", \"SVM\"])\n",
    "axes[0][1].set_title(\"Precision\")\n",
    "#axes[0][1].axhline(0.875,0,5)\n",
    "axes[0][1].axhline(1)\n",
    "\n",
    "# Recall\n",
    "sns.barplot(ax=axes[1][0], y=final_table_test[\"Recall\"],x=[\"KNN\",\"Log Reg\", \"Naive bayes\", \"Decision Tree\", \"SVM\"])\n",
    "axes[1][0].set_title(\"Recall\")\n",
    "#axes[1][0].axhline(0.7,0,5)\n",
    "axes[1][0].axhline(1)\n",
    "\n",
    "# f1 score\n",
    "sns.barplot(ax=axes[1][1], y=final_table_test[\"f1 score\"],x=[\"KNN\",\"Log Reg\", \"Naive bayes\", \"Decision Tree\", \"SVM\"])\n",
    "axes[1][1].set_title(\"f1 score\")\n",
    "#axes[1][1].axhline(0.777778,0,5)\n",
    "axes[1][1].axhline(1)\n",
    "\n",
    "# ROC/AUC\n",
    "sns.barplot(ax=axes[2][0], y=final_table_test[\"ROC/AUC\"],x=[\"KNN\",\"Log Reg\", \"Naive bayes\", \"Decision Tree\", \"SVM\"])\n",
    "axes[2][0].set_title(\"ROC/AUC\")\n",
    "#axes[2][0].axhline(0.843506,0,5)\n",
    "axes[2][0].axhline(1)"
   ]
  },
  {
   "cell_type": "markdown",
   "id": "2d1779e7",
   "metadata": {},
   "source": [
    "## Comment for Phase 1:\n",
    "And from the plots we found that KNN and Logistic Regression got the same scores (It is a coincedence which can be changed by changing the random state when splitting the data and the differences also comes because the dataset is small) Their recall metrics is (0.7) and Naive Bayes got (0.6)\n",
    "\n",
    "- From the above plots we find that in our case we could choose the KNN with K = 9 model or choose the Logistic Regression model"
   ]
  },
  {
   "cell_type": "markdown",
   "id": "88ff0502",
   "metadata": {},
   "source": [
    "## Comment for Phase 2:\n",
    "After using the SVM and the Decision Tree, we found that the SVM has the highest metrics compared to the other models"
   ]
  },
  {
   "cell_type": "markdown",
   "id": "f1825385",
   "metadata": {},
   "source": [
    "## Comparing Models:\n",
    "- In comparison with Naive Bayes Algorithm, Support Vector Machine Algorithm has a faster prediction along with better accuracy.\n",
    "\n",
    "- In comparison with Logistic Regression which is also a classification method SVM proves itself to be cheaper , it has a time complexity of O(N^2*K) where K is no of support vectors whereas logistic Regression had the time complexity of O(N^3)."
   ]
  },
  {
   "cell_type": "markdown",
   "id": "73e9f6b7",
   "metadata": {},
   "source": [
    "## Comment for ROCs Curves:\n",
    "\n",
    "The ROC/AUC Curve isn't completely smooth since the number of test samples are very small, but if we used the training data which contains more samples it gets smoother (see the below cells)"
   ]
  },
  {
   "cell_type": "code",
   "execution_count": null,
   "id": "1fa5531e",
   "metadata": {},
   "outputs": [],
   "source": []
  }
 ],
 "metadata": {
  "kernelspec": {
   "display_name": "Python 3",
   "language": "python",
   "name": "python3"
  },
  "language_info": {
   "codemirror_mode": {
    "name": "ipython",
    "version": 3
   },
   "file_extension": ".py",
   "mimetype": "text/x-python",
   "name": "python",
   "nbconvert_exporter": "python",
   "pygments_lexer": "ipython3",
   "version": "3.8.8"
  }
 },
 "nbformat": 4,
 "nbformat_minor": 5
}
